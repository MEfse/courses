{
 "cells": [
  {
   "cell_type": "code",
   "execution_count": 90,
   "id": "2f3e43e6",
   "metadata": {},
   "outputs": [
    {
     "name": "stdout",
     "output_type": "stream",
     "text": [
      "The autoreload extension is already loaded. To reload it, use:\n",
      "  %reload_ext autoreload\n"
     ]
    }
   ],
   "source": [
    "%load_ext autoreload\n",
    "%autoreload 2"
   ]
  },
  {
   "cell_type": "code",
   "execution_count": 91,
   "id": "240f7a9f",
   "metadata": {},
   "outputs": [],
   "source": [
    "import pandas as pd\n",
    "import numpy as np\n",
    "import joblib\n",
    "import json\n",
    "\n",
    "from matplotlib import pyplot as plt \n",
    "import seaborn as sns"
   ]
  },
  {
   "cell_type": "code",
   "execution_count": 92,
   "id": "b42c0158",
   "metadata": {},
   "outputs": [],
   "source": [
    "from sklearn.dummy import DummyRegressor\n",
    "from sklearn.tree import DecisionTreeRegressor\n",
    "from sklearn.ensemble import RandomForestRegressor\n",
    "from sklearn.linear_model import LinearRegression, Lasso\n",
    "from sklearn.metrics import mean_absolute_error, mean_squared_error, make_scorer\n",
    "from sklearn.model_selection import KFold, train_test_split, RandomizedSearchCV, GridSearchCV\n",
    "from sklearn.compose import ColumnTransformer\n",
    "from sklearn.preprocessing import MinMaxScaler, StandardScaler, OneHotEncoder\n",
    "from sklearn.pipeline import Pipeline\n",
    "from sklearn.impute import SimpleImputer\n",
    "from sklearn.inspection import permutation_importance\n",
    "from scipy.stats import randint, uniform, norm"
   ]
  },
  {
   "cell_type": "code",
   "execution_count": 93,
   "id": "62b19d70",
   "metadata": {},
   "outputs": [],
   "source": [
    "import sys, os\n",
    "sys.path.append(os.path.abspath(os.path.join(os.getcwd(), '..')))\n",
    "\n",
    "from helper.plots import feature_plots\n",
    "from helper.utils import data_tools"
   ]
  },
  {
   "cell_type": "code",
   "execution_count": 94,
   "id": "e13f9ffb",
   "metadata": {},
   "outputs": [],
   "source": [
    "pd.set_option('display.max_columns', None)\n",
    "pd.set_option('display.max_rows', None)"
   ]
  },
  {
   "cell_type": "code",
   "execution_count": 95,
   "id": "a6ef49d1",
   "metadata": {},
   "outputs": [],
   "source": [
    "SEED = 42"
   ]
  },
  {
   "cell_type": "markdown",
   "id": "6229d5eb",
   "metadata": {},
   "source": [
    "### 4. Детальное изучение признаков"
   ]
  },
  {
   "cell_type": "markdown",
   "id": "f1dd275b",
   "metadata": {},
   "source": [
    "Загрузим данные."
   ]
  },
  {
   "cell_type": "code",
   "execution_count": 96,
   "id": "e1b6d017",
   "metadata": {},
   "outputs": [],
   "source": [
    "train = pd.read_csv('./data/train.csv')\n",
    "test = pd.read_csv('./data/test.csv')"
   ]
  },
  {
   "cell_type": "code",
   "execution_count": 97,
   "id": "04f227a2",
   "metadata": {},
   "outputs": [],
   "source": [
    "baseline_model = joblib.load('./model/baseline_model')"
   ]
  },
  {
   "cell_type": "code",
   "execution_count": 98,
   "id": "bf949009",
   "metadata": {},
   "outputs": [],
   "source": [
    "baseline_mae = data_tools.load_json('./model/baseline_mae.json')"
   ]
  },
  {
   "cell_type": "markdown",
   "id": "741999d9",
   "metadata": {},
   "source": [
    "`Id`\n",
    "\n",
    "Видим, что **столбец не несет пользы**, т.к. он инкремент, поэтому нужно избавиться от него."
   ]
  },
  {
   "cell_type": "code",
   "execution_count": 99,
   "id": "96883aff",
   "metadata": {},
   "outputs": [
    {
     "name": "stdout",
     "output_type": "stream",
     "text": [
      "Удалена фича Id\n"
     ]
    }
   ],
   "source": [
    "train = data_tools.Action(train, 'Id').drop_data()\n",
    "#test = data_tools.Action(test, 'Id').drop_data() #Для формирования выходной таблицы Id удалим позже"
   ]
  },
  {
   "cell_type": "markdown",
   "id": "a637bcc9",
   "metadata": {},
   "source": [
    "`Street`\n",
    "\n",
    "**Столбец с сильным перекосом** в данных, поэтому нужно использовать метод с лучшим приростом к метрике."
   ]
  },
  {
   "cell_type": "code",
   "execution_count": 100,
   "id": "a123150a",
   "metadata": {},
   "outputs": [
    {
     "data": {
      "text/plain": [
       "Street\n",
       "Pave    1454\n",
       "Grvl       6\n",
       "Name: count, dtype: int64"
      ]
     },
     "execution_count": 100,
     "metadata": {},
     "output_type": "execute_result"
    }
   ],
   "source": [
    "train['Street'].value_counts()"
   ]
  },
  {
   "cell_type": "code",
   "execution_count": 101,
   "id": "cade43bf",
   "metadata": {},
   "outputs": [
    {
     "data": {
      "text/html": [
       "<div>\n",
       "<style scoped>\n",
       "    .dataframe tbody tr th:only-of-type {\n",
       "        vertical-align: middle;\n",
       "    }\n",
       "\n",
       "    .dataframe tbody tr th {\n",
       "        vertical-align: top;\n",
       "    }\n",
       "\n",
       "    .dataframe thead th {\n",
       "        text-align: right;\n",
       "    }\n",
       "</style>\n",
       "<table border=\"1\" class=\"dataframe\">\n",
       "  <thead>\n",
       "    <tr style=\"text-align: right;\">\n",
       "      <th></th>\n",
       "      <th>Difference MAE</th>\n",
       "      <th>Final MAE</th>\n",
       "    </tr>\n",
       "  </thead>\n",
       "  <tbody>\n",
       "    <tr>\n",
       "      <th>Baseline</th>\n",
       "      <td>0.00</td>\n",
       "      <td>17470.57</td>\n",
       "    </tr>\n",
       "    <tr>\n",
       "      <th>Drop</th>\n",
       "      <td>257.86</td>\n",
       "      <td>17728.43</td>\n",
       "    </tr>\n",
       "    <tr>\n",
       "      <th>Fill</th>\n",
       "      <td>0.00</td>\n",
       "      <td>17470.57</td>\n",
       "    </tr>\n",
       "    <tr>\n",
       "      <th>Mapping</th>\n",
       "      <td>-31.71</td>\n",
       "      <td>17438.86</td>\n",
       "    </tr>\n",
       "    <tr>\n",
       "      <th>Bool</th>\n",
       "      <td>-27.63</td>\n",
       "      <td>17442.94</td>\n",
       "    </tr>\n",
       "  </tbody>\n",
       "</table>\n",
       "</div>"
      ],
      "text/plain": [
       "          Difference MAE  Final MAE\n",
       "Baseline            0.00   17470.57\n",
       "Drop              257.86   17728.43\n",
       "Fill                0.00   17470.57\n",
       "Mapping           -31.71   17438.86\n",
       "Bool              -27.63   17442.94"
      ]
     },
     "metadata": {},
     "output_type": "display_data"
    },
    {
     "name": "stdout",
     "output_type": "stream",
     "text": [
      "Применен мэппинг на фиче Street\n",
      "Применен мэппинг на фиче Street\n"
     ]
    }
   ],
   "source": [
    "train, test = data_tools.Evaluate(train, test, 'Street', baseline_model).info()"
   ]
  },
  {
   "cell_type": "markdown",
   "id": "8b60101c",
   "metadata": {},
   "source": [
    "`Utilities`\n",
    "\n",
    "**У столбца** по сути **только одно значение**, поэтому избавимся от него."
   ]
  },
  {
   "cell_type": "code",
   "execution_count": 102,
   "id": "90ba9ffc",
   "metadata": {},
   "outputs": [
    {
     "data": {
      "text/plain": [
       "Utilities\n",
       "AllPub    1459\n",
       "NoSeWa       1\n",
       "Name: count, dtype: int64"
      ]
     },
     "execution_count": 102,
     "metadata": {},
     "output_type": "execute_result"
    }
   ],
   "source": [
    "train['Utilities'].value_counts()"
   ]
  },
  {
   "cell_type": "code",
   "execution_count": 103,
   "id": "8a231379",
   "metadata": {},
   "outputs": [
    {
     "name": "stdout",
     "output_type": "stream",
     "text": [
      "Удалена фича Utilities\n",
      "Удалена фича Utilities\n"
     ]
    }
   ],
   "source": [
    "train = data_tools.Action(train, 'Utilities').drop_data()\n",
    "test = data_tools.Action(test, 'Utilities').drop_data()"
   ]
  },
  {
   "cell_type": "markdown",
   "id": "74f62e06",
   "metadata": {},
   "source": [
    "**Оценим действия** после предобработки сложных фичей."
   ]
  },
  {
   "cell_type": "code",
   "execution_count": 104,
   "id": "31087019",
   "metadata": {},
   "outputs": [
    {
     "name": "stdout",
     "output_type": "stream",
     "text": [
      "МАЕ Difference: 65.2\n"
     ]
    }
   ],
   "source": [
    "one_step_mae = data_tools.PipelineManager(train, baseline_model).get_baseline()\n",
    "print(f'МАЕ Difference: {round((one_step_mae - baseline_mae['MAE']), 2)}')"
   ]
  },
  {
   "cell_type": "markdown",
   "id": "2da84587",
   "metadata": {},
   "source": [
    "**МАЕ немного увеличилось**, зато избавились от мусорных фичей. Рассмотрим категориальные переменные."
   ]
  },
  {
   "cell_type": "markdown",
   "id": "f1ecb954",
   "metadata": {},
   "source": [
    "##### 4.1. Категориальные переменные c пропусками"
   ]
  },
  {
   "cell_type": "markdown",
   "id": "7f293c8a",
   "metadata": {},
   "source": [
    "Теперь рассмотрим данные по **подвалу.** "
   ]
  },
  {
   "cell_type": "code",
   "execution_count": 105,
   "id": "f724c4c4",
   "metadata": {},
   "outputs": [
    {
     "data": {
      "text/html": [
       "<div>\n",
       "<style scoped>\n",
       "    .dataframe tbody tr th:only-of-type {\n",
       "        vertical-align: middle;\n",
       "    }\n",
       "\n",
       "    .dataframe tbody tr th {\n",
       "        vertical-align: top;\n",
       "    }\n",
       "\n",
       "    .dataframe thead th {\n",
       "        text-align: right;\n",
       "    }\n",
       "</style>\n",
       "<table border=\"1\" class=\"dataframe\">\n",
       "  <thead>\n",
       "    <tr style=\"text-align: right;\">\n",
       "      <th></th>\n",
       "      <th>BsmtQual</th>\n",
       "      <th>BsmtCond</th>\n",
       "      <th>BsmtExposure</th>\n",
       "      <th>BsmtFinType1</th>\n",
       "      <th>BsmtFinType2</th>\n",
       "      <th>TotalBsmtSF</th>\n",
       "      <th>SalePrice</th>\n",
       "    </tr>\n",
       "  </thead>\n",
       "  <tbody>\n",
       "    <tr>\n",
       "      <th>17</th>\n",
       "      <td>NaN</td>\n",
       "      <td>NaN</td>\n",
       "      <td>NaN</td>\n",
       "      <td>NaN</td>\n",
       "      <td>NaN</td>\n",
       "      <td>0</td>\n",
       "      <td>90000</td>\n",
       "    </tr>\n",
       "    <tr>\n",
       "      <th>39</th>\n",
       "      <td>NaN</td>\n",
       "      <td>NaN</td>\n",
       "      <td>NaN</td>\n",
       "      <td>NaN</td>\n",
       "      <td>NaN</td>\n",
       "      <td>0</td>\n",
       "      <td>82000</td>\n",
       "    </tr>\n",
       "    <tr>\n",
       "      <th>90</th>\n",
       "      <td>NaN</td>\n",
       "      <td>NaN</td>\n",
       "      <td>NaN</td>\n",
       "      <td>NaN</td>\n",
       "      <td>NaN</td>\n",
       "      <td>0</td>\n",
       "      <td>109900</td>\n",
       "    </tr>\n",
       "    <tr>\n",
       "      <th>102</th>\n",
       "      <td>NaN</td>\n",
       "      <td>NaN</td>\n",
       "      <td>NaN</td>\n",
       "      <td>NaN</td>\n",
       "      <td>NaN</td>\n",
       "      <td>0</td>\n",
       "      <td>118964</td>\n",
       "    </tr>\n",
       "    <tr>\n",
       "      <th>156</th>\n",
       "      <td>NaN</td>\n",
       "      <td>NaN</td>\n",
       "      <td>NaN</td>\n",
       "      <td>NaN</td>\n",
       "      <td>NaN</td>\n",
       "      <td>0</td>\n",
       "      <td>109500</td>\n",
       "    </tr>\n",
       "  </tbody>\n",
       "</table>\n",
       "</div>"
      ],
      "text/plain": [
       "    BsmtQual BsmtCond BsmtExposure BsmtFinType1 BsmtFinType2  TotalBsmtSF  \\\n",
       "17       NaN      NaN          NaN          NaN          NaN            0   \n",
       "39       NaN      NaN          NaN          NaN          NaN            0   \n",
       "90       NaN      NaN          NaN          NaN          NaN            0   \n",
       "102      NaN      NaN          NaN          NaN          NaN            0   \n",
       "156      NaN      NaN          NaN          NaN          NaN            0   \n",
       "\n",
       "     SalePrice  \n",
       "17       90000  \n",
       "39       82000  \n",
       "90      109900  \n",
       "102     118964  \n",
       "156     109500  "
      ]
     },
     "metadata": {},
     "output_type": "display_data"
    },
    {
     "name": "stdout",
     "output_type": "stream",
     "text": [
      "Общая площадь подвала: 0.0\n"
     ]
    }
   ],
   "source": [
    "bsmt = train.loc[train['BsmtQual'].isna(), ['BsmtQual', 'BsmtCond', 'BsmtExposure', 'BsmtFinType1',  'BsmtFinType2', 'TotalBsmtSF', 'SalePrice']]\n",
    "\n",
    "display(bsmt.head(5))\n",
    "print(f'Общая площадь подвала: {bsmt['TotalBsmtSF'].mean()}')"
   ]
  },
  {
   "cell_type": "markdown",
   "id": "ff293402",
   "metadata": {},
   "source": [
    "**Общая площадь подвала равная нулю** говорит о том, что в этих домах **отсутствует подвал** и поэтому надо пропуски заполнить меткой **No basement**."
   ]
  },
  {
   "cell_type": "code",
   "execution_count": 106,
   "id": "946069ac",
   "metadata": {},
   "outputs": [],
   "source": [
    "bsmt_columns = ['BsmtQual', 'BsmtCond', 'BsmtExposure', 'BsmtFinType1',  'BsmtFinType2']"
   ]
  },
  {
   "cell_type": "code",
   "execution_count": 107,
   "id": "f3ebe431",
   "metadata": {},
   "outputs": [],
   "source": [
    "train[bsmt_columns] = train[bsmt_columns].fillna('No basement')"
   ]
  },
  {
   "cell_type": "markdown",
   "id": "8b784546",
   "metadata": {},
   "source": [
    "По такому же принципу **исследуем наличие гаража** в доме."
   ]
  },
  {
   "cell_type": "code",
   "execution_count": 108,
   "id": "0f2021e6",
   "metadata": {},
   "outputs": [
    {
     "data": {
      "text/html": [
       "<div>\n",
       "<style scoped>\n",
       "    .dataframe tbody tr th:only-of-type {\n",
       "        vertical-align: middle;\n",
       "    }\n",
       "\n",
       "    .dataframe tbody tr th {\n",
       "        vertical-align: top;\n",
       "    }\n",
       "\n",
       "    .dataframe thead th {\n",
       "        text-align: right;\n",
       "    }\n",
       "</style>\n",
       "<table border=\"1\" class=\"dataframe\">\n",
       "  <thead>\n",
       "    <tr style=\"text-align: right;\">\n",
       "      <th></th>\n",
       "      <th>GarageQual</th>\n",
       "      <th>GarageCond</th>\n",
       "      <th>GarageFinish</th>\n",
       "      <th>GarageType</th>\n",
       "      <th>GarageCars</th>\n",
       "      <th>GarageArea</th>\n",
       "      <th>SalePrice</th>\n",
       "    </tr>\n",
       "  </thead>\n",
       "  <tbody>\n",
       "    <tr>\n",
       "      <th>39</th>\n",
       "      <td>NaN</td>\n",
       "      <td>NaN</td>\n",
       "      <td>NaN</td>\n",
       "      <td>NaN</td>\n",
       "      <td>0</td>\n",
       "      <td>0</td>\n",
       "      <td>82000</td>\n",
       "    </tr>\n",
       "    <tr>\n",
       "      <th>48</th>\n",
       "      <td>NaN</td>\n",
       "      <td>NaN</td>\n",
       "      <td>NaN</td>\n",
       "      <td>NaN</td>\n",
       "      <td>0</td>\n",
       "      <td>0</td>\n",
       "      <td>113000</td>\n",
       "    </tr>\n",
       "    <tr>\n",
       "      <th>78</th>\n",
       "      <td>NaN</td>\n",
       "      <td>NaN</td>\n",
       "      <td>NaN</td>\n",
       "      <td>NaN</td>\n",
       "      <td>0</td>\n",
       "      <td>0</td>\n",
       "      <td>136500</td>\n",
       "    </tr>\n",
       "    <tr>\n",
       "      <th>88</th>\n",
       "      <td>NaN</td>\n",
       "      <td>NaN</td>\n",
       "      <td>NaN</td>\n",
       "      <td>NaN</td>\n",
       "      <td>0</td>\n",
       "      <td>0</td>\n",
       "      <td>85000</td>\n",
       "    </tr>\n",
       "    <tr>\n",
       "      <th>89</th>\n",
       "      <td>NaN</td>\n",
       "      <td>NaN</td>\n",
       "      <td>NaN</td>\n",
       "      <td>NaN</td>\n",
       "      <td>0</td>\n",
       "      <td>0</td>\n",
       "      <td>123600</td>\n",
       "    </tr>\n",
       "  </tbody>\n",
       "</table>\n",
       "</div>"
      ],
      "text/plain": [
       "   GarageQual GarageCond GarageFinish GarageType  GarageCars  GarageArea  \\\n",
       "39        NaN        NaN          NaN        NaN           0           0   \n",
       "48        NaN        NaN          NaN        NaN           0           0   \n",
       "78        NaN        NaN          NaN        NaN           0           0   \n",
       "88        NaN        NaN          NaN        NaN           0           0   \n",
       "89        NaN        NaN          NaN        NaN           0           0   \n",
       "\n",
       "    SalePrice  \n",
       "39      82000  \n",
       "48     113000  \n",
       "78     136500  \n",
       "88      85000  \n",
       "89     123600  "
      ]
     },
     "metadata": {},
     "output_type": "display_data"
    },
    {
     "name": "stdout",
     "output_type": "stream",
     "text": [
      "Общая площадь гаража: 0.0\n"
     ]
    }
   ],
   "source": [
    "garage = train.loc[train['GarageType'].isna(), ['GarageQual', 'GarageCond', 'GarageFinish', 'GarageType',  'GarageCars', 'GarageArea', 'SalePrice']]\n",
    "\n",
    "display(garage.head(5))\n",
    "print(f'Общая площадь гаража: {garage['GarageArea'].mean()}')"
   ]
  },
  {
   "cell_type": "markdown",
   "id": "249b899a",
   "metadata": {},
   "source": [
    "По полученным данным видно, что **в доме отсутствует гараж**."
   ]
  },
  {
   "cell_type": "code",
   "execution_count": 109,
   "id": "8e9bd87f",
   "metadata": {},
   "outputs": [],
   "source": [
    "garage_columns = ['GarageQual', 'GarageCond', 'GarageFinish', 'GarageType']"
   ]
  },
  {
   "cell_type": "code",
   "execution_count": 110,
   "id": "bffd8fe6",
   "metadata": {},
   "outputs": [],
   "source": [
    "train[garage_columns] = train[garage_columns].fillna('No garage')"
   ]
  },
  {
   "cell_type": "code",
   "execution_count": 111,
   "id": "dad33059",
   "metadata": {},
   "outputs": [
    {
     "name": "stdout",
     "output_type": "stream",
     "text": [
      "МАЕ Difference: -94.53\n"
     ]
    }
   ],
   "source": [
    "two_step_mae = data_tools.PipelineManager(train, baseline_model).get_baseline()\n",
    "print(f'МАЕ Difference: {round((two_step_mae - one_step_mae), 2)}')"
   ]
  },
  {
   "cell_type": "markdown",
   "id": "9241281d",
   "metadata": {},
   "source": [
    "**Заполнив фичи** по подвалу и гаражу, мы **выиграли в качестве**, выбранное действие над фичами с подвалом и гаражом являются единственными верными."
   ]
  },
  {
   "cell_type": "markdown",
   "id": "df7f93ec",
   "metadata": {},
   "source": [
    "`PoolQC` - Качество бассейна"
   ]
  },
  {
   "cell_type": "code",
   "execution_count": 112,
   "id": "238454b3",
   "metadata": {},
   "outputs": [],
   "source": [
    "missing = pd.read_json('./model/missing.json', orient='split')"
   ]
  },
  {
   "cell_type": "code",
   "execution_count": 113,
   "id": "69e65add",
   "metadata": {},
   "outputs": [
    {
     "data": {
      "text/html": [
       "<div>\n",
       "<style scoped>\n",
       "    .dataframe tbody tr th:only-of-type {\n",
       "        vertical-align: middle;\n",
       "    }\n",
       "\n",
       "    .dataframe tbody tr th {\n",
       "        vertical-align: top;\n",
       "    }\n",
       "\n",
       "    .dataframe thead th {\n",
       "        text-align: right;\n",
       "    }\n",
       "</style>\n",
       "<table border=\"1\" class=\"dataframe\">\n",
       "  <thead>\n",
       "    <tr style=\"text-align: right;\">\n",
       "      <th></th>\n",
       "      <th>count</th>\n",
       "      <th>ratio</th>\n",
       "    </tr>\n",
       "  </thead>\n",
       "  <tbody>\n",
       "    <tr>\n",
       "      <th>PoolQC</th>\n",
       "      <td>1453</td>\n",
       "      <td>0.995205</td>\n",
       "    </tr>\n",
       "    <tr>\n",
       "      <th>MiscFeature</th>\n",
       "      <td>1406</td>\n",
       "      <td>0.963014</td>\n",
       "    </tr>\n",
       "    <tr>\n",
       "      <th>Alley</th>\n",
       "      <td>1369</td>\n",
       "      <td>0.937671</td>\n",
       "    </tr>\n",
       "    <tr>\n",
       "      <th>Fence</th>\n",
       "      <td>1179</td>\n",
       "      <td>0.807534</td>\n",
       "    </tr>\n",
       "    <tr>\n",
       "      <th>MasVnrType</th>\n",
       "      <td>872</td>\n",
       "      <td>0.597260</td>\n",
       "    </tr>\n",
       "  </tbody>\n",
       "</table>\n",
       "</div>"
      ],
      "text/plain": [
       "             count     ratio\n",
       "PoolQC        1453  0.995205\n",
       "MiscFeature   1406  0.963014\n",
       "Alley         1369  0.937671\n",
       "Fence         1179  0.807534\n",
       "MasVnrType     872  0.597260"
      ]
     },
     "execution_count": 113,
     "metadata": {},
     "output_type": "execute_result"
    }
   ],
   "source": [
    "missing[:5]"
   ]
  },
  {
   "cell_type": "markdown",
   "id": "d6353904",
   "metadata": {},
   "source": [
    "Данные настолько **сильно повреждены**, что скорее всего восстановить не представляется возможным."
   ]
  },
  {
   "cell_type": "code",
   "execution_count": 114,
   "id": "5c030eb0",
   "metadata": {},
   "outputs": [
    {
     "data": {
      "text/html": [
       "<div>\n",
       "<style scoped>\n",
       "    .dataframe tbody tr th:only-of-type {\n",
       "        vertical-align: middle;\n",
       "    }\n",
       "\n",
       "    .dataframe tbody tr th {\n",
       "        vertical-align: top;\n",
       "    }\n",
       "\n",
       "    .dataframe thead th {\n",
       "        text-align: right;\n",
       "    }\n",
       "</style>\n",
       "<table border=\"1\" class=\"dataframe\">\n",
       "  <thead>\n",
       "    <tr style=\"text-align: right;\">\n",
       "      <th></th>\n",
       "      <th>Difference MAE</th>\n",
       "      <th>Final MAE</th>\n",
       "    </tr>\n",
       "  </thead>\n",
       "  <tbody>\n",
       "    <tr>\n",
       "      <th>Baseline</th>\n",
       "      <td>0.00</td>\n",
       "      <td>17557.12</td>\n",
       "    </tr>\n",
       "    <tr>\n",
       "      <th>Drop</th>\n",
       "      <td>102.85</td>\n",
       "      <td>17659.97</td>\n",
       "    </tr>\n",
       "    <tr>\n",
       "      <th>Fill</th>\n",
       "      <td>17.49</td>\n",
       "      <td>17574.61</td>\n",
       "    </tr>\n",
       "    <tr>\n",
       "      <th>Mapping</th>\n",
       "      <td>-18.80</td>\n",
       "      <td>17538.32</td>\n",
       "    </tr>\n",
       "    <tr>\n",
       "      <th>Bool</th>\n",
       "      <td>17.59</td>\n",
       "      <td>17574.71</td>\n",
       "    </tr>\n",
       "  </tbody>\n",
       "</table>\n",
       "</div>"
      ],
      "text/plain": [
       "          Difference MAE  Final MAE\n",
       "Baseline            0.00   17557.12\n",
       "Drop              102.85   17659.97\n",
       "Fill               17.49   17574.61\n",
       "Mapping           -18.80   17538.32\n",
       "Bool               17.59   17574.71"
      ]
     },
     "metadata": {},
     "output_type": "display_data"
    },
    {
     "name": "stdout",
     "output_type": "stream",
     "text": [
      "Применен мэппинг на фиче PoolQC\n",
      "Применен мэппинг на фиче PoolQC\n"
     ]
    }
   ],
   "source": [
    "train, test = data_tools.Evaluate(train, test, 'PoolQC', baseline_model).info()"
   ]
  },
  {
   "cell_type": "markdown",
   "id": "57ac23b1",
   "metadata": {},
   "source": [
    "**Наличие бассейна сильно повышает цену квартиры**, поэтому удаление этой фичи выглядит самым неразумным действием."
   ]
  },
  {
   "cell_type": "markdown",
   "id": "36b59182",
   "metadata": {},
   "source": [
    "`MiscFeature` - Разные функции, не охваченные другими категориями"
   ]
  },
  {
   "cell_type": "markdown",
   "id": "6a619184",
   "metadata": {},
   "source": [
    "Рассмотрим эту фичу. Данные в ней **сильно повреждены** и доходят до 96%."
   ]
  },
  {
   "cell_type": "code",
   "execution_count": 115,
   "id": "a45b0ba8",
   "metadata": {},
   "outputs": [
    {
     "data": {
      "text/html": [
       "<div>\n",
       "<style scoped>\n",
       "    .dataframe tbody tr th:only-of-type {\n",
       "        vertical-align: middle;\n",
       "    }\n",
       "\n",
       "    .dataframe tbody tr th {\n",
       "        vertical-align: top;\n",
       "    }\n",
       "\n",
       "    .dataframe thead th {\n",
       "        text-align: right;\n",
       "    }\n",
       "</style>\n",
       "<table border=\"1\" class=\"dataframe\">\n",
       "  <thead>\n",
       "    <tr style=\"text-align: right;\">\n",
       "      <th></th>\n",
       "      <th>Difference MAE</th>\n",
       "      <th>Final MAE</th>\n",
       "    </tr>\n",
       "  </thead>\n",
       "  <tbody>\n",
       "    <tr>\n",
       "      <th>Baseline</th>\n",
       "      <td>0.00</td>\n",
       "      <td>17538.32</td>\n",
       "    </tr>\n",
       "    <tr>\n",
       "      <th>Drop</th>\n",
       "      <td>61.69</td>\n",
       "      <td>17600.01</td>\n",
       "    </tr>\n",
       "    <tr>\n",
       "      <th>Fill</th>\n",
       "      <td>-15.43</td>\n",
       "      <td>17522.89</td>\n",
       "    </tr>\n",
       "    <tr>\n",
       "      <th>Mapping</th>\n",
       "      <td>15.20</td>\n",
       "      <td>17553.52</td>\n",
       "    </tr>\n",
       "    <tr>\n",
       "      <th>Bool</th>\n",
       "      <td>-40.83</td>\n",
       "      <td>17497.49</td>\n",
       "    </tr>\n",
       "  </tbody>\n",
       "</table>\n",
       "</div>"
      ],
      "text/plain": [
       "          Difference MAE  Final MAE\n",
       "Baseline            0.00   17538.32\n",
       "Drop               61.69   17600.01\n",
       "Fill              -15.43   17522.89\n",
       "Mapping            15.20   17553.52\n",
       "Bool              -40.83   17497.49"
      ]
     },
     "metadata": {},
     "output_type": "display_data"
    },
    {
     "name": "stdout",
     "output_type": "stream",
     "text": [
      "Фича преобразована в булевый тип MiscFeature\n",
      "Фича преобразована в булевый тип MiscFeature\n"
     ]
    }
   ],
   "source": [
    "train, test = data_tools.Evaluate(train, test, 'MiscFeature', baseline_model).info()"
   ]
  },
  {
   "cell_type": "markdown",
   "id": "10006889",
   "metadata": {},
   "source": [
    "**Оценим потери** после преобразований этих двух фичей."
   ]
  },
  {
   "cell_type": "code",
   "execution_count": 116,
   "id": "00cb4bfe",
   "metadata": {},
   "outputs": [
    {
     "name": "stdout",
     "output_type": "stream",
     "text": [
      "МАЕ Difference: -59.63\n"
     ]
    }
   ],
   "source": [
    "three_step_mae = data_tools.PipelineManager(train, baseline_model).get_baseline()\n",
    "print(f'МАЕ Difference: {round((three_step_mae - two_step_mae), 2)}')"
   ]
  },
  {
   "cell_type": "markdown",
   "id": "f66b10f7",
   "metadata": {},
   "source": [
    "`Alley`"
   ]
  },
  {
   "cell_type": "code",
   "execution_count": 117,
   "id": "92fa9101",
   "metadata": {},
   "outputs": [
    {
     "data": {
      "text/html": [
       "<div>\n",
       "<style scoped>\n",
       "    .dataframe tbody tr th:only-of-type {\n",
       "        vertical-align: middle;\n",
       "    }\n",
       "\n",
       "    .dataframe tbody tr th {\n",
       "        vertical-align: top;\n",
       "    }\n",
       "\n",
       "    .dataframe thead th {\n",
       "        text-align: right;\n",
       "    }\n",
       "</style>\n",
       "<table border=\"1\" class=\"dataframe\">\n",
       "  <thead>\n",
       "    <tr style=\"text-align: right;\">\n",
       "      <th></th>\n",
       "      <th>Difference MAE</th>\n",
       "      <th>Final MAE</th>\n",
       "    </tr>\n",
       "  </thead>\n",
       "  <tbody>\n",
       "    <tr>\n",
       "      <th>Baseline</th>\n",
       "      <td>0.00</td>\n",
       "      <td>17497.49</td>\n",
       "    </tr>\n",
       "    <tr>\n",
       "      <th>Drop</th>\n",
       "      <td>-34.92</td>\n",
       "      <td>17462.57</td>\n",
       "    </tr>\n",
       "    <tr>\n",
       "      <th>Fill</th>\n",
       "      <td>-53.00</td>\n",
       "      <td>17444.49</td>\n",
       "    </tr>\n",
       "    <tr>\n",
       "      <th>Mapping</th>\n",
       "      <td>115.50</td>\n",
       "      <td>17612.99</td>\n",
       "    </tr>\n",
       "    <tr>\n",
       "      <th>Bool</th>\n",
       "      <td>174.37</td>\n",
       "      <td>17671.86</td>\n",
       "    </tr>\n",
       "  </tbody>\n",
       "</table>\n",
       "</div>"
      ],
      "text/plain": [
       "          Difference MAE  Final MAE\n",
       "Baseline            0.00   17497.49\n",
       "Drop              -34.92   17462.57\n",
       "Fill              -53.00   17444.49\n",
       "Mapping           115.50   17612.99\n",
       "Bool              174.37   17671.86"
      ]
     },
     "metadata": {},
     "output_type": "display_data"
    },
    {
     "name": "stdout",
     "output_type": "stream",
     "text": [
      "Фича Alley заполнена меткой\n",
      "Фича Alley заполнена меткой\n"
     ]
    }
   ],
   "source": [
    "_ = data_tools.Evaluate(train, test, 'Alley', baseline_model).info()\n",
    "del _"
   ]
  },
  {
   "cell_type": "markdown",
   "id": "8664c7b7",
   "metadata": {},
   "source": [
    "Попробуем получить прирост более детальной предобработкой. Сделаем копию датасета."
   ]
  },
  {
   "cell_type": "code",
   "execution_count": 118,
   "id": "46ae2405",
   "metadata": {},
   "outputs": [],
   "source": [
    "data_test_alley = train.copy()"
   ]
  },
  {
   "cell_type": "code",
   "execution_count": 119,
   "id": "6d02121f",
   "metadata": {},
   "outputs": [
    {
     "data": {
      "text/plain": [
       "Alley\n",
       "Grvl    50\n",
       "Pave    41\n",
       "Name: count, dtype: int64"
      ]
     },
     "execution_count": 119,
     "metadata": {},
     "output_type": "execute_result"
    }
   ],
   "source": [
    "data_test_alley['Alley'].value_counts()"
   ]
  },
  {
   "cell_type": "markdown",
   "id": "be95c498",
   "metadata": {},
   "source": [
    "Grvl — Гравийный проезд.\n",
    "\n",
    "Pave — Плиточный/асфальтированный проезд.\n",
    "\n",
    "**Сделаем срез по значениям**."
   ]
  },
  {
   "cell_type": "code",
   "execution_count": 120,
   "id": "96d5ffac",
   "metadata": {},
   "outputs": [
    {
     "data": {
      "text/html": [
       "<div>\n",
       "<style scoped>\n",
       "    .dataframe tbody tr th:only-of-type {\n",
       "        vertical-align: middle;\n",
       "    }\n",
       "\n",
       "    .dataframe tbody tr th {\n",
       "        vertical-align: top;\n",
       "    }\n",
       "\n",
       "    .dataframe thead th {\n",
       "        text-align: right;\n",
       "    }\n",
       "</style>\n",
       "<table border=\"1\" class=\"dataframe\">\n",
       "  <thead>\n",
       "    <tr style=\"text-align: right;\">\n",
       "      <th></th>\n",
       "      <th>MSSubClass</th>\n",
       "      <th>MSZoning</th>\n",
       "      <th>LotFrontage</th>\n",
       "      <th>LotArea</th>\n",
       "      <th>Street</th>\n",
       "      <th>Alley</th>\n",
       "      <th>LotShape</th>\n",
       "      <th>LandContour</th>\n",
       "      <th>LotConfig</th>\n",
       "      <th>LandSlope</th>\n",
       "      <th>Neighborhood</th>\n",
       "      <th>Condition1</th>\n",
       "      <th>Condition2</th>\n",
       "      <th>BldgType</th>\n",
       "      <th>HouseStyle</th>\n",
       "      <th>OverallQual</th>\n",
       "      <th>OverallCond</th>\n",
       "      <th>YearBuilt</th>\n",
       "      <th>YearRemodAdd</th>\n",
       "      <th>RoofStyle</th>\n",
       "      <th>RoofMatl</th>\n",
       "      <th>Exterior1st</th>\n",
       "      <th>Exterior2nd</th>\n",
       "      <th>MasVnrType</th>\n",
       "      <th>MasVnrArea</th>\n",
       "      <th>ExterQual</th>\n",
       "      <th>ExterCond</th>\n",
       "      <th>Foundation</th>\n",
       "      <th>BsmtQual</th>\n",
       "      <th>BsmtCond</th>\n",
       "      <th>BsmtExposure</th>\n",
       "      <th>BsmtFinType1</th>\n",
       "      <th>BsmtFinSF1</th>\n",
       "      <th>BsmtFinType2</th>\n",
       "      <th>BsmtFinSF2</th>\n",
       "      <th>BsmtUnfSF</th>\n",
       "      <th>TotalBsmtSF</th>\n",
       "      <th>Heating</th>\n",
       "      <th>HeatingQC</th>\n",
       "      <th>CentralAir</th>\n",
       "      <th>Electrical</th>\n",
       "      <th>1stFlrSF</th>\n",
       "      <th>2ndFlrSF</th>\n",
       "      <th>LowQualFinSF</th>\n",
       "      <th>GrLivArea</th>\n",
       "      <th>BsmtFullBath</th>\n",
       "      <th>BsmtHalfBath</th>\n",
       "      <th>FullBath</th>\n",
       "      <th>HalfBath</th>\n",
       "      <th>BedroomAbvGr</th>\n",
       "      <th>KitchenAbvGr</th>\n",
       "      <th>KitchenQual</th>\n",
       "      <th>TotRmsAbvGrd</th>\n",
       "      <th>Functional</th>\n",
       "      <th>Fireplaces</th>\n",
       "      <th>FireplaceQu</th>\n",
       "      <th>GarageType</th>\n",
       "      <th>GarageYrBlt</th>\n",
       "      <th>GarageFinish</th>\n",
       "      <th>GarageCars</th>\n",
       "      <th>GarageArea</th>\n",
       "      <th>GarageQual</th>\n",
       "      <th>GarageCond</th>\n",
       "      <th>PavedDrive</th>\n",
       "      <th>WoodDeckSF</th>\n",
       "      <th>OpenPorchSF</th>\n",
       "      <th>EnclosedPorch</th>\n",
       "      <th>3SsnPorch</th>\n",
       "      <th>ScreenPorch</th>\n",
       "      <th>PoolArea</th>\n",
       "      <th>PoolQC</th>\n",
       "      <th>Fence</th>\n",
       "      <th>MiscVal</th>\n",
       "      <th>MoSold</th>\n",
       "      <th>YrSold</th>\n",
       "      <th>SaleType</th>\n",
       "      <th>SaleCondition</th>\n",
       "      <th>SalePrice</th>\n",
       "      <th>Has_MiscFeature</th>\n",
       "    </tr>\n",
       "  </thead>\n",
       "  <tbody>\n",
       "    <tr>\n",
       "      <th>21</th>\n",
       "      <td>45</td>\n",
       "      <td>RM</td>\n",
       "      <td>57.0</td>\n",
       "      <td>7449</td>\n",
       "      <td>0</td>\n",
       "      <td>Grvl</td>\n",
       "      <td>Reg</td>\n",
       "      <td>Bnk</td>\n",
       "      <td>Inside</td>\n",
       "      <td>Gtl</td>\n",
       "      <td>IDOTRR</td>\n",
       "      <td>Norm</td>\n",
       "      <td>Norm</td>\n",
       "      <td>1Fam</td>\n",
       "      <td>1.5Unf</td>\n",
       "      <td>7</td>\n",
       "      <td>7</td>\n",
       "      <td>1930</td>\n",
       "      <td>1950</td>\n",
       "      <td>Gable</td>\n",
       "      <td>CompShg</td>\n",
       "      <td>Wd Sdng</td>\n",
       "      <td>Wd Sdng</td>\n",
       "      <td>NaN</td>\n",
       "      <td>0.0</td>\n",
       "      <td>TA</td>\n",
       "      <td>TA</td>\n",
       "      <td>PConc</td>\n",
       "      <td>TA</td>\n",
       "      <td>TA</td>\n",
       "      <td>No</td>\n",
       "      <td>Unf</td>\n",
       "      <td>0</td>\n",
       "      <td>Unf</td>\n",
       "      <td>0</td>\n",
       "      <td>637</td>\n",
       "      <td>637</td>\n",
       "      <td>GasA</td>\n",
       "      <td>Ex</td>\n",
       "      <td>Y</td>\n",
       "      <td>FuseF</td>\n",
       "      <td>1108</td>\n",
       "      <td>0</td>\n",
       "      <td>0</td>\n",
       "      <td>1108</td>\n",
       "      <td>0</td>\n",
       "      <td>0</td>\n",
       "      <td>1</td>\n",
       "      <td>0</td>\n",
       "      <td>3</td>\n",
       "      <td>1</td>\n",
       "      <td>Gd</td>\n",
       "      <td>6</td>\n",
       "      <td>Typ</td>\n",
       "      <td>1</td>\n",
       "      <td>Gd</td>\n",
       "      <td>Attchd</td>\n",
       "      <td>1930.0</td>\n",
       "      <td>Unf</td>\n",
       "      <td>1</td>\n",
       "      <td>280</td>\n",
       "      <td>TA</td>\n",
       "      <td>TA</td>\n",
       "      <td>N</td>\n",
       "      <td>0</td>\n",
       "      <td>0</td>\n",
       "      <td>205</td>\n",
       "      <td>0</td>\n",
       "      <td>0</td>\n",
       "      <td>0</td>\n",
       "      <td>0</td>\n",
       "      <td>GdPrv</td>\n",
       "      <td>0</td>\n",
       "      <td>6</td>\n",
       "      <td>2007</td>\n",
       "      <td>WD</td>\n",
       "      <td>Normal</td>\n",
       "      <td>139400</td>\n",
       "      <td>0</td>\n",
       "    </tr>\n",
       "    <tr>\n",
       "      <th>79</th>\n",
       "      <td>50</td>\n",
       "      <td>RM</td>\n",
       "      <td>60.0</td>\n",
       "      <td>10440</td>\n",
       "      <td>0</td>\n",
       "      <td>Grvl</td>\n",
       "      <td>Reg</td>\n",
       "      <td>Lvl</td>\n",
       "      <td>Corner</td>\n",
       "      <td>Gtl</td>\n",
       "      <td>OldTown</td>\n",
       "      <td>Norm</td>\n",
       "      <td>Norm</td>\n",
       "      <td>1Fam</td>\n",
       "      <td>2Story</td>\n",
       "      <td>5</td>\n",
       "      <td>6</td>\n",
       "      <td>1910</td>\n",
       "      <td>1981</td>\n",
       "      <td>Gable</td>\n",
       "      <td>CompShg</td>\n",
       "      <td>Wd Sdng</td>\n",
       "      <td>Wd Sdng</td>\n",
       "      <td>NaN</td>\n",
       "      <td>0.0</td>\n",
       "      <td>TA</td>\n",
       "      <td>TA</td>\n",
       "      <td>PConc</td>\n",
       "      <td>TA</td>\n",
       "      <td>TA</td>\n",
       "      <td>No</td>\n",
       "      <td>Unf</td>\n",
       "      <td>0</td>\n",
       "      <td>Unf</td>\n",
       "      <td>0</td>\n",
       "      <td>440</td>\n",
       "      <td>440</td>\n",
       "      <td>GasA</td>\n",
       "      <td>Gd</td>\n",
       "      <td>Y</td>\n",
       "      <td>SBrkr</td>\n",
       "      <td>682</td>\n",
       "      <td>548</td>\n",
       "      <td>0</td>\n",
       "      <td>1230</td>\n",
       "      <td>0</td>\n",
       "      <td>0</td>\n",
       "      <td>1</td>\n",
       "      <td>1</td>\n",
       "      <td>2</td>\n",
       "      <td>1</td>\n",
       "      <td>TA</td>\n",
       "      <td>5</td>\n",
       "      <td>Typ</td>\n",
       "      <td>0</td>\n",
       "      <td>NaN</td>\n",
       "      <td>Detchd</td>\n",
       "      <td>1966.0</td>\n",
       "      <td>Unf</td>\n",
       "      <td>2</td>\n",
       "      <td>440</td>\n",
       "      <td>TA</td>\n",
       "      <td>TA</td>\n",
       "      <td>Y</td>\n",
       "      <td>74</td>\n",
       "      <td>0</td>\n",
       "      <td>128</td>\n",
       "      <td>0</td>\n",
       "      <td>0</td>\n",
       "      <td>0</td>\n",
       "      <td>0</td>\n",
       "      <td>MnPrv</td>\n",
       "      <td>0</td>\n",
       "      <td>5</td>\n",
       "      <td>2009</td>\n",
       "      <td>WD</td>\n",
       "      <td>Normal</td>\n",
       "      <td>110000</td>\n",
       "      <td>0</td>\n",
       "    </tr>\n",
       "    <tr>\n",
       "      <th>92</th>\n",
       "      <td>30</td>\n",
       "      <td>RL</td>\n",
       "      <td>80.0</td>\n",
       "      <td>13360</td>\n",
       "      <td>0</td>\n",
       "      <td>Grvl</td>\n",
       "      <td>IR1</td>\n",
       "      <td>HLS</td>\n",
       "      <td>Inside</td>\n",
       "      <td>Gtl</td>\n",
       "      <td>Crawfor</td>\n",
       "      <td>Norm</td>\n",
       "      <td>Norm</td>\n",
       "      <td>1Fam</td>\n",
       "      <td>1Story</td>\n",
       "      <td>5</td>\n",
       "      <td>7</td>\n",
       "      <td>1921</td>\n",
       "      <td>2006</td>\n",
       "      <td>Gable</td>\n",
       "      <td>CompShg</td>\n",
       "      <td>Wd Sdng</td>\n",
       "      <td>Wd Sdng</td>\n",
       "      <td>NaN</td>\n",
       "      <td>0.0</td>\n",
       "      <td>TA</td>\n",
       "      <td>Gd</td>\n",
       "      <td>BrkTil</td>\n",
       "      <td>Gd</td>\n",
       "      <td>TA</td>\n",
       "      <td>No</td>\n",
       "      <td>ALQ</td>\n",
       "      <td>713</td>\n",
       "      <td>Unf</td>\n",
       "      <td>0</td>\n",
       "      <td>163</td>\n",
       "      <td>876</td>\n",
       "      <td>GasA</td>\n",
       "      <td>Ex</td>\n",
       "      <td>Y</td>\n",
       "      <td>SBrkr</td>\n",
       "      <td>964</td>\n",
       "      <td>0</td>\n",
       "      <td>0</td>\n",
       "      <td>964</td>\n",
       "      <td>1</td>\n",
       "      <td>0</td>\n",
       "      <td>1</td>\n",
       "      <td>0</td>\n",
       "      <td>2</td>\n",
       "      <td>1</td>\n",
       "      <td>TA</td>\n",
       "      <td>5</td>\n",
       "      <td>Typ</td>\n",
       "      <td>0</td>\n",
       "      <td>NaN</td>\n",
       "      <td>Detchd</td>\n",
       "      <td>1921.0</td>\n",
       "      <td>Unf</td>\n",
       "      <td>2</td>\n",
       "      <td>432</td>\n",
       "      <td>TA</td>\n",
       "      <td>TA</td>\n",
       "      <td>Y</td>\n",
       "      <td>0</td>\n",
       "      <td>0</td>\n",
       "      <td>44</td>\n",
       "      <td>0</td>\n",
       "      <td>0</td>\n",
       "      <td>0</td>\n",
       "      <td>0</td>\n",
       "      <td>NaN</td>\n",
       "      <td>0</td>\n",
       "      <td>8</td>\n",
       "      <td>2009</td>\n",
       "      <td>WD</td>\n",
       "      <td>Normal</td>\n",
       "      <td>163500</td>\n",
       "      <td>0</td>\n",
       "    </tr>\n",
       "    <tr>\n",
       "      <th>106</th>\n",
       "      <td>30</td>\n",
       "      <td>RM</td>\n",
       "      <td>60.0</td>\n",
       "      <td>10800</td>\n",
       "      <td>0</td>\n",
       "      <td>Grvl</td>\n",
       "      <td>Reg</td>\n",
       "      <td>Lvl</td>\n",
       "      <td>Inside</td>\n",
       "      <td>Gtl</td>\n",
       "      <td>OldTown</td>\n",
       "      <td>Norm</td>\n",
       "      <td>Norm</td>\n",
       "      <td>1Fam</td>\n",
       "      <td>1Story</td>\n",
       "      <td>4</td>\n",
       "      <td>7</td>\n",
       "      <td>1885</td>\n",
       "      <td>1995</td>\n",
       "      <td>Mansard</td>\n",
       "      <td>CompShg</td>\n",
       "      <td>VinylSd</td>\n",
       "      <td>VinylSd</td>\n",
       "      <td>NaN</td>\n",
       "      <td>0.0</td>\n",
       "      <td>TA</td>\n",
       "      <td>TA</td>\n",
       "      <td>BrkTil</td>\n",
       "      <td>Fa</td>\n",
       "      <td>TA</td>\n",
       "      <td>No</td>\n",
       "      <td>Unf</td>\n",
       "      <td>0</td>\n",
       "      <td>Unf</td>\n",
       "      <td>0</td>\n",
       "      <td>641</td>\n",
       "      <td>641</td>\n",
       "      <td>GasA</td>\n",
       "      <td>Gd</td>\n",
       "      <td>Y</td>\n",
       "      <td>SBrkr</td>\n",
       "      <td>1047</td>\n",
       "      <td>0</td>\n",
       "      <td>0</td>\n",
       "      <td>1047</td>\n",
       "      <td>0</td>\n",
       "      <td>0</td>\n",
       "      <td>1</td>\n",
       "      <td>0</td>\n",
       "      <td>2</td>\n",
       "      <td>1</td>\n",
       "      <td>TA</td>\n",
       "      <td>6</td>\n",
       "      <td>Typ</td>\n",
       "      <td>0</td>\n",
       "      <td>NaN</td>\n",
       "      <td>Detchd</td>\n",
       "      <td>1954.0</td>\n",
       "      <td>Unf</td>\n",
       "      <td>1</td>\n",
       "      <td>273</td>\n",
       "      <td>Fa</td>\n",
       "      <td>Fa</td>\n",
       "      <td>N</td>\n",
       "      <td>0</td>\n",
       "      <td>0</td>\n",
       "      <td>0</td>\n",
       "      <td>0</td>\n",
       "      <td>0</td>\n",
       "      <td>0</td>\n",
       "      <td>0</td>\n",
       "      <td>NaN</td>\n",
       "      <td>450</td>\n",
       "      <td>8</td>\n",
       "      <td>2007</td>\n",
       "      <td>WD</td>\n",
       "      <td>Normal</td>\n",
       "      <td>100000</td>\n",
       "      <td>1</td>\n",
       "    </tr>\n",
       "    <tr>\n",
       "      <th>204</th>\n",
       "      <td>50</td>\n",
       "      <td>RM</td>\n",
       "      <td>50.0</td>\n",
       "      <td>3500</td>\n",
       "      <td>0</td>\n",
       "      <td>Grvl</td>\n",
       "      <td>Reg</td>\n",
       "      <td>Lvl</td>\n",
       "      <td>Inside</td>\n",
       "      <td>Gtl</td>\n",
       "      <td>OldTown</td>\n",
       "      <td>Norm</td>\n",
       "      <td>Norm</td>\n",
       "      <td>1Fam</td>\n",
       "      <td>1.5Fin</td>\n",
       "      <td>5</td>\n",
       "      <td>7</td>\n",
       "      <td>1947</td>\n",
       "      <td>1950</td>\n",
       "      <td>Gable</td>\n",
       "      <td>CompShg</td>\n",
       "      <td>AsbShng</td>\n",
       "      <td>AsbShng</td>\n",
       "      <td>NaN</td>\n",
       "      <td>0.0</td>\n",
       "      <td>TA</td>\n",
       "      <td>TA</td>\n",
       "      <td>CBlock</td>\n",
       "      <td>TA</td>\n",
       "      <td>TA</td>\n",
       "      <td>No</td>\n",
       "      <td>LwQ</td>\n",
       "      <td>312</td>\n",
       "      <td>Unf</td>\n",
       "      <td>0</td>\n",
       "      <td>408</td>\n",
       "      <td>720</td>\n",
       "      <td>GasA</td>\n",
       "      <td>TA</td>\n",
       "      <td>Y</td>\n",
       "      <td>SBrkr</td>\n",
       "      <td>720</td>\n",
       "      <td>564</td>\n",
       "      <td>0</td>\n",
       "      <td>1284</td>\n",
       "      <td>0</td>\n",
       "      <td>0</td>\n",
       "      <td>1</td>\n",
       "      <td>1</td>\n",
       "      <td>2</td>\n",
       "      <td>1</td>\n",
       "      <td>TA</td>\n",
       "      <td>5</td>\n",
       "      <td>Typ</td>\n",
       "      <td>0</td>\n",
       "      <td>NaN</td>\n",
       "      <td>Detchd</td>\n",
       "      <td>1948.0</td>\n",
       "      <td>Unf</td>\n",
       "      <td>1</td>\n",
       "      <td>240</td>\n",
       "      <td>TA</td>\n",
       "      <td>TA</td>\n",
       "      <td>Y</td>\n",
       "      <td>0</td>\n",
       "      <td>35</td>\n",
       "      <td>0</td>\n",
       "      <td>0</td>\n",
       "      <td>0</td>\n",
       "      <td>0</td>\n",
       "      <td>0</td>\n",
       "      <td>MnWw</td>\n",
       "      <td>0</td>\n",
       "      <td>4</td>\n",
       "      <td>2009</td>\n",
       "      <td>WD</td>\n",
       "      <td>Normal</td>\n",
       "      <td>110000</td>\n",
       "      <td>0</td>\n",
       "    </tr>\n",
       "    <tr>\n",
       "      <th>30</th>\n",
       "      <td>70</td>\n",
       "      <td>C (all)</td>\n",
       "      <td>50.0</td>\n",
       "      <td>8500</td>\n",
       "      <td>0</td>\n",
       "      <td>Pave</td>\n",
       "      <td>Reg</td>\n",
       "      <td>Lvl</td>\n",
       "      <td>Inside</td>\n",
       "      <td>Gtl</td>\n",
       "      <td>IDOTRR</td>\n",
       "      <td>Feedr</td>\n",
       "      <td>Norm</td>\n",
       "      <td>1Fam</td>\n",
       "      <td>2Story</td>\n",
       "      <td>4</td>\n",
       "      <td>4</td>\n",
       "      <td>1920</td>\n",
       "      <td>1950</td>\n",
       "      <td>Gambrel</td>\n",
       "      <td>CompShg</td>\n",
       "      <td>BrkFace</td>\n",
       "      <td>BrkFace</td>\n",
       "      <td>NaN</td>\n",
       "      <td>0.0</td>\n",
       "      <td>TA</td>\n",
       "      <td>Fa</td>\n",
       "      <td>BrkTil</td>\n",
       "      <td>TA</td>\n",
       "      <td>TA</td>\n",
       "      <td>No</td>\n",
       "      <td>Unf</td>\n",
       "      <td>0</td>\n",
       "      <td>Unf</td>\n",
       "      <td>0</td>\n",
       "      <td>649</td>\n",
       "      <td>649</td>\n",
       "      <td>GasA</td>\n",
       "      <td>TA</td>\n",
       "      <td>N</td>\n",
       "      <td>SBrkr</td>\n",
       "      <td>649</td>\n",
       "      <td>668</td>\n",
       "      <td>0</td>\n",
       "      <td>1317</td>\n",
       "      <td>0</td>\n",
       "      <td>0</td>\n",
       "      <td>1</td>\n",
       "      <td>0</td>\n",
       "      <td>3</td>\n",
       "      <td>1</td>\n",
       "      <td>TA</td>\n",
       "      <td>6</td>\n",
       "      <td>Typ</td>\n",
       "      <td>0</td>\n",
       "      <td>NaN</td>\n",
       "      <td>Detchd</td>\n",
       "      <td>1920.0</td>\n",
       "      <td>Unf</td>\n",
       "      <td>1</td>\n",
       "      <td>250</td>\n",
       "      <td>TA</td>\n",
       "      <td>Fa</td>\n",
       "      <td>N</td>\n",
       "      <td>0</td>\n",
       "      <td>54</td>\n",
       "      <td>172</td>\n",
       "      <td>0</td>\n",
       "      <td>0</td>\n",
       "      <td>0</td>\n",
       "      <td>0</td>\n",
       "      <td>MnPrv</td>\n",
       "      <td>0</td>\n",
       "      <td>7</td>\n",
       "      <td>2008</td>\n",
       "      <td>WD</td>\n",
       "      <td>Normal</td>\n",
       "      <td>40000</td>\n",
       "      <td>0</td>\n",
       "    </tr>\n",
       "    <tr>\n",
       "      <th>56</th>\n",
       "      <td>160</td>\n",
       "      <td>FV</td>\n",
       "      <td>24.0</td>\n",
       "      <td>2645</td>\n",
       "      <td>0</td>\n",
       "      <td>Pave</td>\n",
       "      <td>Reg</td>\n",
       "      <td>Lvl</td>\n",
       "      <td>Inside</td>\n",
       "      <td>Gtl</td>\n",
       "      <td>Somerst</td>\n",
       "      <td>Norm</td>\n",
       "      <td>Norm</td>\n",
       "      <td>Twnhs</td>\n",
       "      <td>2Story</td>\n",
       "      <td>8</td>\n",
       "      <td>5</td>\n",
       "      <td>1999</td>\n",
       "      <td>2000</td>\n",
       "      <td>Gable</td>\n",
       "      <td>CompShg</td>\n",
       "      <td>MetalSd</td>\n",
       "      <td>MetalSd</td>\n",
       "      <td>BrkFace</td>\n",
       "      <td>456.0</td>\n",
       "      <td>Gd</td>\n",
       "      <td>TA</td>\n",
       "      <td>PConc</td>\n",
       "      <td>Gd</td>\n",
       "      <td>TA</td>\n",
       "      <td>No</td>\n",
       "      <td>GLQ</td>\n",
       "      <td>649</td>\n",
       "      <td>Unf</td>\n",
       "      <td>0</td>\n",
       "      <td>321</td>\n",
       "      <td>970</td>\n",
       "      <td>GasA</td>\n",
       "      <td>Ex</td>\n",
       "      <td>Y</td>\n",
       "      <td>SBrkr</td>\n",
       "      <td>983</td>\n",
       "      <td>756</td>\n",
       "      <td>0</td>\n",
       "      <td>1739</td>\n",
       "      <td>1</td>\n",
       "      <td>0</td>\n",
       "      <td>2</td>\n",
       "      <td>1</td>\n",
       "      <td>3</td>\n",
       "      <td>1</td>\n",
       "      <td>Gd</td>\n",
       "      <td>7</td>\n",
       "      <td>Typ</td>\n",
       "      <td>0</td>\n",
       "      <td>NaN</td>\n",
       "      <td>Attchd</td>\n",
       "      <td>1999.0</td>\n",
       "      <td>Fin</td>\n",
       "      <td>2</td>\n",
       "      <td>480</td>\n",
       "      <td>TA</td>\n",
       "      <td>TA</td>\n",
       "      <td>Y</td>\n",
       "      <td>115</td>\n",
       "      <td>0</td>\n",
       "      <td>0</td>\n",
       "      <td>0</td>\n",
       "      <td>0</td>\n",
       "      <td>0</td>\n",
       "      <td>0</td>\n",
       "      <td>NaN</td>\n",
       "      <td>0</td>\n",
       "      <td>8</td>\n",
       "      <td>2009</td>\n",
       "      <td>WD</td>\n",
       "      <td>Abnorml</td>\n",
       "      <td>172500</td>\n",
       "      <td>0</td>\n",
       "    </tr>\n",
       "    <tr>\n",
       "      <th>87</th>\n",
       "      <td>160</td>\n",
       "      <td>FV</td>\n",
       "      <td>40.0</td>\n",
       "      <td>3951</td>\n",
       "      <td>0</td>\n",
       "      <td>Pave</td>\n",
       "      <td>Reg</td>\n",
       "      <td>Lvl</td>\n",
       "      <td>Corner</td>\n",
       "      <td>Gtl</td>\n",
       "      <td>Somerst</td>\n",
       "      <td>Norm</td>\n",
       "      <td>Norm</td>\n",
       "      <td>TwnhsE</td>\n",
       "      <td>2Story</td>\n",
       "      <td>6</td>\n",
       "      <td>5</td>\n",
       "      <td>2009</td>\n",
       "      <td>2009</td>\n",
       "      <td>Gable</td>\n",
       "      <td>CompShg</td>\n",
       "      <td>VinylSd</td>\n",
       "      <td>VinylSd</td>\n",
       "      <td>Stone</td>\n",
       "      <td>76.0</td>\n",
       "      <td>Gd</td>\n",
       "      <td>TA</td>\n",
       "      <td>PConc</td>\n",
       "      <td>Gd</td>\n",
       "      <td>TA</td>\n",
       "      <td>Av</td>\n",
       "      <td>Unf</td>\n",
       "      <td>0</td>\n",
       "      <td>Unf</td>\n",
       "      <td>0</td>\n",
       "      <td>612</td>\n",
       "      <td>612</td>\n",
       "      <td>GasA</td>\n",
       "      <td>Ex</td>\n",
       "      <td>Y</td>\n",
       "      <td>SBrkr</td>\n",
       "      <td>612</td>\n",
       "      <td>612</td>\n",
       "      <td>0</td>\n",
       "      <td>1224</td>\n",
       "      <td>0</td>\n",
       "      <td>0</td>\n",
       "      <td>2</td>\n",
       "      <td>1</td>\n",
       "      <td>2</td>\n",
       "      <td>1</td>\n",
       "      <td>Gd</td>\n",
       "      <td>4</td>\n",
       "      <td>Typ</td>\n",
       "      <td>0</td>\n",
       "      <td>NaN</td>\n",
       "      <td>Detchd</td>\n",
       "      <td>2009.0</td>\n",
       "      <td>RFn</td>\n",
       "      <td>2</td>\n",
       "      <td>528</td>\n",
       "      <td>TA</td>\n",
       "      <td>TA</td>\n",
       "      <td>Y</td>\n",
       "      <td>0</td>\n",
       "      <td>234</td>\n",
       "      <td>0</td>\n",
       "      <td>0</td>\n",
       "      <td>0</td>\n",
       "      <td>0</td>\n",
       "      <td>0</td>\n",
       "      <td>NaN</td>\n",
       "      <td>0</td>\n",
       "      <td>6</td>\n",
       "      <td>2009</td>\n",
       "      <td>New</td>\n",
       "      <td>Partial</td>\n",
       "      <td>164500</td>\n",
       "      <td>0</td>\n",
       "    </tr>\n",
       "    <tr>\n",
       "      <th>115</th>\n",
       "      <td>160</td>\n",
       "      <td>FV</td>\n",
       "      <td>34.0</td>\n",
       "      <td>3230</td>\n",
       "      <td>0</td>\n",
       "      <td>Pave</td>\n",
       "      <td>Reg</td>\n",
       "      <td>Lvl</td>\n",
       "      <td>Corner</td>\n",
       "      <td>Gtl</td>\n",
       "      <td>Somerst</td>\n",
       "      <td>Norm</td>\n",
       "      <td>Norm</td>\n",
       "      <td>TwnhsE</td>\n",
       "      <td>2Story</td>\n",
       "      <td>6</td>\n",
       "      <td>5</td>\n",
       "      <td>1999</td>\n",
       "      <td>1999</td>\n",
       "      <td>Gable</td>\n",
       "      <td>CompShg</td>\n",
       "      <td>MetalSd</td>\n",
       "      <td>MetalSd</td>\n",
       "      <td>BrkFace</td>\n",
       "      <td>1129.0</td>\n",
       "      <td>TA</td>\n",
       "      <td>TA</td>\n",
       "      <td>PConc</td>\n",
       "      <td>Gd</td>\n",
       "      <td>TA</td>\n",
       "      <td>No</td>\n",
       "      <td>GLQ</td>\n",
       "      <td>419</td>\n",
       "      <td>Unf</td>\n",
       "      <td>0</td>\n",
       "      <td>310</td>\n",
       "      <td>729</td>\n",
       "      <td>GasA</td>\n",
       "      <td>Gd</td>\n",
       "      <td>Y</td>\n",
       "      <td>SBrkr</td>\n",
       "      <td>729</td>\n",
       "      <td>729</td>\n",
       "      <td>0</td>\n",
       "      <td>1458</td>\n",
       "      <td>0</td>\n",
       "      <td>0</td>\n",
       "      <td>2</td>\n",
       "      <td>1</td>\n",
       "      <td>2</td>\n",
       "      <td>1</td>\n",
       "      <td>TA</td>\n",
       "      <td>5</td>\n",
       "      <td>Typ</td>\n",
       "      <td>1</td>\n",
       "      <td>Fa</td>\n",
       "      <td>Detchd</td>\n",
       "      <td>1999.0</td>\n",
       "      <td>Unf</td>\n",
       "      <td>2</td>\n",
       "      <td>440</td>\n",
       "      <td>TA</td>\n",
       "      <td>TA</td>\n",
       "      <td>Y</td>\n",
       "      <td>0</td>\n",
       "      <td>32</td>\n",
       "      <td>0</td>\n",
       "      <td>0</td>\n",
       "      <td>0</td>\n",
       "      <td>0</td>\n",
       "      <td>0</td>\n",
       "      <td>NaN</td>\n",
       "      <td>0</td>\n",
       "      <td>6</td>\n",
       "      <td>2007</td>\n",
       "      <td>WD</td>\n",
       "      <td>Normal</td>\n",
       "      <td>176000</td>\n",
       "      <td>0</td>\n",
       "    </tr>\n",
       "    <tr>\n",
       "      <th>164</th>\n",
       "      <td>40</td>\n",
       "      <td>RM</td>\n",
       "      <td>40.0</td>\n",
       "      <td>5400</td>\n",
       "      <td>0</td>\n",
       "      <td>Pave</td>\n",
       "      <td>Reg</td>\n",
       "      <td>Lvl</td>\n",
       "      <td>Corner</td>\n",
       "      <td>Gtl</td>\n",
       "      <td>OldTown</td>\n",
       "      <td>Norm</td>\n",
       "      <td>Norm</td>\n",
       "      <td>1Fam</td>\n",
       "      <td>1Story</td>\n",
       "      <td>6</td>\n",
       "      <td>7</td>\n",
       "      <td>1926</td>\n",
       "      <td>2004</td>\n",
       "      <td>Gable</td>\n",
       "      <td>CompShg</td>\n",
       "      <td>MetalSd</td>\n",
       "      <td>MetalSd</td>\n",
       "      <td>NaN</td>\n",
       "      <td>0.0</td>\n",
       "      <td>TA</td>\n",
       "      <td>Gd</td>\n",
       "      <td>BrkTil</td>\n",
       "      <td>TA</td>\n",
       "      <td>TA</td>\n",
       "      <td>Mn</td>\n",
       "      <td>LwQ</td>\n",
       "      <td>370</td>\n",
       "      <td>Unf</td>\n",
       "      <td>0</td>\n",
       "      <td>779</td>\n",
       "      <td>1149</td>\n",
       "      <td>GasA</td>\n",
       "      <td>Gd</td>\n",
       "      <td>Y</td>\n",
       "      <td>FuseA</td>\n",
       "      <td>1149</td>\n",
       "      <td>467</td>\n",
       "      <td>0</td>\n",
       "      <td>1616</td>\n",
       "      <td>0</td>\n",
       "      <td>0</td>\n",
       "      <td>2</td>\n",
       "      <td>0</td>\n",
       "      <td>3</td>\n",
       "      <td>1</td>\n",
       "      <td>Gd</td>\n",
       "      <td>5</td>\n",
       "      <td>Typ</td>\n",
       "      <td>0</td>\n",
       "      <td>NaN</td>\n",
       "      <td>Detchd</td>\n",
       "      <td>1926.0</td>\n",
       "      <td>Unf</td>\n",
       "      <td>1</td>\n",
       "      <td>216</td>\n",
       "      <td>TA</td>\n",
       "      <td>TA</td>\n",
       "      <td>Y</td>\n",
       "      <td>0</td>\n",
       "      <td>0</td>\n",
       "      <td>183</td>\n",
       "      <td>0</td>\n",
       "      <td>0</td>\n",
       "      <td>0</td>\n",
       "      <td>0</td>\n",
       "      <td>NaN</td>\n",
       "      <td>0</td>\n",
       "      <td>10</td>\n",
       "      <td>2007</td>\n",
       "      <td>WD</td>\n",
       "      <td>Normal</td>\n",
       "      <td>152000</td>\n",
       "      <td>0</td>\n",
       "    </tr>\n",
       "  </tbody>\n",
       "</table>\n",
       "</div>"
      ],
      "text/plain": [
       "     MSSubClass MSZoning  LotFrontage  LotArea  Street Alley LotShape  \\\n",
       "21           45       RM         57.0     7449       0  Grvl      Reg   \n",
       "79           50       RM         60.0    10440       0  Grvl      Reg   \n",
       "92           30       RL         80.0    13360       0  Grvl      IR1   \n",
       "106          30       RM         60.0    10800       0  Grvl      Reg   \n",
       "204          50       RM         50.0     3500       0  Grvl      Reg   \n",
       "30           70  C (all)         50.0     8500       0  Pave      Reg   \n",
       "56          160       FV         24.0     2645       0  Pave      Reg   \n",
       "87          160       FV         40.0     3951       0  Pave      Reg   \n",
       "115         160       FV         34.0     3230       0  Pave      Reg   \n",
       "164          40       RM         40.0     5400       0  Pave      Reg   \n",
       "\n",
       "    LandContour LotConfig LandSlope Neighborhood Condition1 Condition2  \\\n",
       "21          Bnk    Inside       Gtl       IDOTRR       Norm       Norm   \n",
       "79          Lvl    Corner       Gtl      OldTown       Norm       Norm   \n",
       "92          HLS    Inside       Gtl      Crawfor       Norm       Norm   \n",
       "106         Lvl    Inside       Gtl      OldTown       Norm       Norm   \n",
       "204         Lvl    Inside       Gtl      OldTown       Norm       Norm   \n",
       "30          Lvl    Inside       Gtl       IDOTRR      Feedr       Norm   \n",
       "56          Lvl    Inside       Gtl      Somerst       Norm       Norm   \n",
       "87          Lvl    Corner       Gtl      Somerst       Norm       Norm   \n",
       "115         Lvl    Corner       Gtl      Somerst       Norm       Norm   \n",
       "164         Lvl    Corner       Gtl      OldTown       Norm       Norm   \n",
       "\n",
       "    BldgType HouseStyle  OverallQual  OverallCond  YearBuilt  YearRemodAdd  \\\n",
       "21      1Fam     1.5Unf            7            7       1930          1950   \n",
       "79      1Fam     2Story            5            6       1910          1981   \n",
       "92      1Fam     1Story            5            7       1921          2006   \n",
       "106     1Fam     1Story            4            7       1885          1995   \n",
       "204     1Fam     1.5Fin            5            7       1947          1950   \n",
       "30      1Fam     2Story            4            4       1920          1950   \n",
       "56     Twnhs     2Story            8            5       1999          2000   \n",
       "87    TwnhsE     2Story            6            5       2009          2009   \n",
       "115   TwnhsE     2Story            6            5       1999          1999   \n",
       "164     1Fam     1Story            6            7       1926          2004   \n",
       "\n",
       "    RoofStyle RoofMatl Exterior1st Exterior2nd MasVnrType  MasVnrArea  \\\n",
       "21      Gable  CompShg     Wd Sdng     Wd Sdng        NaN         0.0   \n",
       "79      Gable  CompShg     Wd Sdng     Wd Sdng        NaN         0.0   \n",
       "92      Gable  CompShg     Wd Sdng     Wd Sdng        NaN         0.0   \n",
       "106   Mansard  CompShg     VinylSd     VinylSd        NaN         0.0   \n",
       "204     Gable  CompShg     AsbShng     AsbShng        NaN         0.0   \n",
       "30    Gambrel  CompShg     BrkFace     BrkFace        NaN         0.0   \n",
       "56      Gable  CompShg     MetalSd     MetalSd    BrkFace       456.0   \n",
       "87      Gable  CompShg     VinylSd     VinylSd      Stone        76.0   \n",
       "115     Gable  CompShg     MetalSd     MetalSd    BrkFace      1129.0   \n",
       "164     Gable  CompShg     MetalSd     MetalSd        NaN         0.0   \n",
       "\n",
       "    ExterQual ExterCond Foundation BsmtQual BsmtCond BsmtExposure  \\\n",
       "21         TA        TA      PConc       TA       TA           No   \n",
       "79         TA        TA      PConc       TA       TA           No   \n",
       "92         TA        Gd     BrkTil       Gd       TA           No   \n",
       "106        TA        TA     BrkTil       Fa       TA           No   \n",
       "204        TA        TA     CBlock       TA       TA           No   \n",
       "30         TA        Fa     BrkTil       TA       TA           No   \n",
       "56         Gd        TA      PConc       Gd       TA           No   \n",
       "87         Gd        TA      PConc       Gd       TA           Av   \n",
       "115        TA        TA      PConc       Gd       TA           No   \n",
       "164        TA        Gd     BrkTil       TA       TA           Mn   \n",
       "\n",
       "    BsmtFinType1  BsmtFinSF1 BsmtFinType2  BsmtFinSF2  BsmtUnfSF  TotalBsmtSF  \\\n",
       "21           Unf           0          Unf           0        637          637   \n",
       "79           Unf           0          Unf           0        440          440   \n",
       "92           ALQ         713          Unf           0        163          876   \n",
       "106          Unf           0          Unf           0        641          641   \n",
       "204          LwQ         312          Unf           0        408          720   \n",
       "30           Unf           0          Unf           0        649          649   \n",
       "56           GLQ         649          Unf           0        321          970   \n",
       "87           Unf           0          Unf           0        612          612   \n",
       "115          GLQ         419          Unf           0        310          729   \n",
       "164          LwQ         370          Unf           0        779         1149   \n",
       "\n",
       "    Heating HeatingQC CentralAir Electrical  1stFlrSF  2ndFlrSF  LowQualFinSF  \\\n",
       "21     GasA        Ex          Y      FuseF      1108         0             0   \n",
       "79     GasA        Gd          Y      SBrkr       682       548             0   \n",
       "92     GasA        Ex          Y      SBrkr       964         0             0   \n",
       "106    GasA        Gd          Y      SBrkr      1047         0             0   \n",
       "204    GasA        TA          Y      SBrkr       720       564             0   \n",
       "30     GasA        TA          N      SBrkr       649       668             0   \n",
       "56     GasA        Ex          Y      SBrkr       983       756             0   \n",
       "87     GasA        Ex          Y      SBrkr       612       612             0   \n",
       "115    GasA        Gd          Y      SBrkr       729       729             0   \n",
       "164    GasA        Gd          Y      FuseA      1149       467             0   \n",
       "\n",
       "     GrLivArea  BsmtFullBath  BsmtHalfBath  FullBath  HalfBath  BedroomAbvGr  \\\n",
       "21        1108             0             0         1         0             3   \n",
       "79        1230             0             0         1         1             2   \n",
       "92         964             1             0         1         0             2   \n",
       "106       1047             0             0         1         0             2   \n",
       "204       1284             0             0         1         1             2   \n",
       "30        1317             0             0         1         0             3   \n",
       "56        1739             1             0         2         1             3   \n",
       "87        1224             0             0         2         1             2   \n",
       "115       1458             0             0         2         1             2   \n",
       "164       1616             0             0         2         0             3   \n",
       "\n",
       "     KitchenAbvGr KitchenQual  TotRmsAbvGrd Functional  Fireplaces  \\\n",
       "21              1          Gd             6        Typ           1   \n",
       "79              1          TA             5        Typ           0   \n",
       "92              1          TA             5        Typ           0   \n",
       "106             1          TA             6        Typ           0   \n",
       "204             1          TA             5        Typ           0   \n",
       "30              1          TA             6        Typ           0   \n",
       "56              1          Gd             7        Typ           0   \n",
       "87              1          Gd             4        Typ           0   \n",
       "115             1          TA             5        Typ           1   \n",
       "164             1          Gd             5        Typ           0   \n",
       "\n",
       "    FireplaceQu GarageType  GarageYrBlt GarageFinish  GarageCars  GarageArea  \\\n",
       "21           Gd     Attchd       1930.0          Unf           1         280   \n",
       "79          NaN     Detchd       1966.0          Unf           2         440   \n",
       "92          NaN     Detchd       1921.0          Unf           2         432   \n",
       "106         NaN     Detchd       1954.0          Unf           1         273   \n",
       "204         NaN     Detchd       1948.0          Unf           1         240   \n",
       "30          NaN     Detchd       1920.0          Unf           1         250   \n",
       "56          NaN     Attchd       1999.0          Fin           2         480   \n",
       "87          NaN     Detchd       2009.0          RFn           2         528   \n",
       "115          Fa     Detchd       1999.0          Unf           2         440   \n",
       "164         NaN     Detchd       1926.0          Unf           1         216   \n",
       "\n",
       "    GarageQual GarageCond PavedDrive  WoodDeckSF  OpenPorchSF  EnclosedPorch  \\\n",
       "21          TA         TA          N           0            0            205   \n",
       "79          TA         TA          Y          74            0            128   \n",
       "92          TA         TA          Y           0            0             44   \n",
       "106         Fa         Fa          N           0            0              0   \n",
       "204         TA         TA          Y           0           35              0   \n",
       "30          TA         Fa          N           0           54            172   \n",
       "56          TA         TA          Y         115            0              0   \n",
       "87          TA         TA          Y           0          234              0   \n",
       "115         TA         TA          Y           0           32              0   \n",
       "164         TA         TA          Y           0            0            183   \n",
       "\n",
       "     3SsnPorch  ScreenPorch  PoolArea  PoolQC  Fence  MiscVal  MoSold  YrSold  \\\n",
       "21           0            0         0       0  GdPrv        0       6    2007   \n",
       "79           0            0         0       0  MnPrv        0       5    2009   \n",
       "92           0            0         0       0    NaN        0       8    2009   \n",
       "106          0            0         0       0    NaN      450       8    2007   \n",
       "204          0            0         0       0   MnWw        0       4    2009   \n",
       "30           0            0         0       0  MnPrv        0       7    2008   \n",
       "56           0            0         0       0    NaN        0       8    2009   \n",
       "87           0            0         0       0    NaN        0       6    2009   \n",
       "115          0            0         0       0    NaN        0       6    2007   \n",
       "164          0            0         0       0    NaN        0      10    2007   \n",
       "\n",
       "    SaleType SaleCondition  SalePrice  Has_MiscFeature  \n",
       "21        WD        Normal     139400                0  \n",
       "79        WD        Normal     110000                0  \n",
       "92        WD        Normal     163500                0  \n",
       "106       WD        Normal     100000                1  \n",
       "204       WD        Normal     110000                0  \n",
       "30        WD        Normal      40000                0  \n",
       "56        WD       Abnorml     172500                0  \n",
       "87       New       Partial     164500                0  \n",
       "115       WD        Normal     176000                0  \n",
       "164       WD        Normal     152000                0  "
      ]
     },
     "metadata": {},
     "output_type": "display_data"
    }
   ],
   "source": [
    "data_grvl = data_test_alley[data_test_alley['Alley'] == data_test_alley['Alley'].value_counts().index[0]]\n",
    "data_pave = data_test_alley[data_test_alley['Alley'] == data_test_alley['Alley'].value_counts().index[1]]\n",
    "\n",
    "data_gp = pd.concat([data_grvl[:5], data_pave[:5]])\n",
    "display(data_gp)\n",
    "\n",
    "del data_gp"
   ]
  },
  {
   "cell_type": "markdown",
   "id": "cb8612f4",
   "metadata": {},
   "source": [
    "**Посмотрим разницу домов** по общей классификации зонирования."
   ]
  },
  {
   "cell_type": "code",
   "execution_count": 121,
   "id": "eb7a98fe",
   "metadata": {},
   "outputs": [
    {
     "data": {
      "image/png": "[encoded data removed]",
      "text/plain": [
       "<Figure size 1000x600 with 1 Axes>"
      ]
     },
     "metadata": {},
     "output_type": "display_data"
    }
   ],
   "source": [
    "datasets_zone = {\n",
    "    \"grvl\": data_grvl['MSZoning'],\n",
    "    \"pave\": data_pave['MSZoning']\n",
    "}\n",
    "\n",
    "feature_plots.BuildHist(datasets_zone).categorical_hist()\n",
    "\n",
    "del datasets_zone"
   ]
  },
  {
   "cell_type": "markdown",
   "id": "b04cc6a0",
   "metadata": {},
   "source": [
    "Мы можем **восстановить часть данных заполнив Alley** со значением pave по MSZoning со значениями FV и RH."
   ]
  },
  {
   "cell_type": "code",
   "execution_count": 122,
   "id": "0a154807",
   "metadata": {},
   "outputs": [],
   "source": [
    "data_test_alley.loc[data_test_alley['MSZoning'] == 'FV', 'Alley'] = 'Pave'\n",
    "data_test_alley.loc[data_test_alley['MSZoning'] == 'RH', 'Alley'] = 'Pave'\n",
    "data_test_alley.loc[data_test_alley['MSZoning'] == 'C (all)', 'Alley'] = 'Pave'"
   ]
  },
  {
   "cell_type": "code",
   "execution_count": 123,
   "id": "f3370449",
   "metadata": {},
   "outputs": [
    {
     "name": "stdout",
     "output_type": "stream",
     "text": [
      "МАЕ Difference: 86.65\n"
     ]
    }
   ],
   "source": [
    "four_step_mae = data_tools.PipelineManager(data_test_alley, baseline_model).get_baseline()\n",
    "print(f'МАЕ Difference: {round((four_step_mae - three_step_mae), 2)}')"
   ]
  },
  {
   "cell_type": "markdown",
   "id": "439471be",
   "metadata": {},
   "source": [
    "Рассмотрим возможность **восстановления данных по году постройки**."
   ]
  },
  {
   "cell_type": "code",
   "execution_count": 124,
   "id": "6d04c225",
   "metadata": {},
   "outputs": [
    {
     "data": {
      "image/png": "[encoded data removed]",
      "text/plain": [
       "<Figure size 1000x600 with 1 Axes>"
      ]
     },
     "metadata": {},
     "output_type": "display_data"
    }
   ],
   "source": [
    "datasets_year = {\n",
    "    \"grvl\": data_grvl['YearBuilt'],\n",
    "    \"pave\": data_pave['YearBuilt']\n",
    "}\n",
    "\n",
    "feature_plots.BuildHist(datasets_year).numeric_plot()\n",
    "\n",
    "del datasets_year"
   ]
  },
  {
   "cell_type": "markdown",
   "id": "9c452214",
   "metadata": {},
   "source": [
    "Заметим, что после 1990 года, с большой уверенностью, можем восстановить Alley со значением Pave."
   ]
  },
  {
   "cell_type": "code",
   "execution_count": 125,
   "id": "a4a3518d",
   "metadata": {},
   "outputs": [],
   "source": [
    "data_test_alley.loc[(data_test_alley['YearBuilt'] >= 1990) & (data_test_alley['Alley'].isna()), 'Alley'] = 'Pave'"
   ]
  },
  {
   "cell_type": "code",
   "execution_count": 126,
   "id": "5c75e6d9",
   "metadata": {},
   "outputs": [
    {
     "name": "stdout",
     "output_type": "stream",
     "text": [
      "МАЕ Difference: 0.0\n"
     ]
    }
   ],
   "source": [
    "five_step_mae = data_tools.PipelineManager(data_test_alley, baseline_model).get_baseline()\n",
    "print(f'МАЕ Difference: {round((five_step_mae - four_step_mae), 2)}')"
   ]
  },
  {
   "cell_type": "markdown",
   "id": "e127abdc",
   "metadata": {},
   "source": [
    "Так же рассмотрим по году постройке гаража. "
   ]
  },
  {
   "cell_type": "code",
   "execution_count": 127,
   "id": "8b24ac8a",
   "metadata": {},
   "outputs": [
    {
     "data": {
      "image/png": "[encoded data removed]",
      "text/plain": [
       "<Figure size 1000x600 with 1 Axes>"
      ]
     },
     "metadata": {},
     "output_type": "display_data"
    }
   ],
   "source": [
    "datasets_garage = {\n",
    "    \"grvl\": data_grvl['GarageYrBlt'],\n",
    "    \"pave\": data_pave['GarageYrBlt']\n",
    "}\n",
    "\n",
    "feature_plots.BuildHist(datasets_garage).numeric_plot()\n",
    "\n",
    "del datasets_garage"
   ]
  },
  {
   "cell_type": "markdown",
   "id": "64e99296",
   "metadata": {},
   "source": [
    "Так же **восстановим данные по гаражу после 2000 года**."
   ]
  },
  {
   "cell_type": "code",
   "execution_count": 128,
   "id": "4f2cfef8",
   "metadata": {},
   "outputs": [],
   "source": [
    "data_test_alley.loc[(data_test_alley['GarageYrBlt'] >= 2000) & (data_test_alley['Alley'].isna()), 'Alley'] = 'Pave'"
   ]
  },
  {
   "cell_type": "code",
   "execution_count": 129,
   "id": "2d4dab1d",
   "metadata": {},
   "outputs": [
    {
     "name": "stdout",
     "output_type": "stream",
     "text": [
      "МАЕ Difference: 0.0\n"
     ]
    }
   ],
   "source": [
    "six_step_mae = data_tools.PipelineManager(data_test_alley, baseline_model).get_baseline()\n",
    "print(f'МАЕ Difference: {round((six_step_mae - five_step_mae), 2)}')"
   ]
  },
  {
   "cell_type": "markdown",
   "id": "0c8b7dea",
   "metadata": {},
   "source": [
    "Попробуем **восстановить данные по соседям**."
   ]
  },
  {
   "cell_type": "code",
   "execution_count": 130,
   "id": "0223c445",
   "metadata": {},
   "outputs": [
    {
     "data": {
      "image/png": "[encoded data removed]",
      "text/plain": [
       "<Figure size 1000x600 with 1 Axes>"
      ]
     },
     "metadata": {},
     "output_type": "display_data"
    }
   ],
   "source": [
    "datasets_neighborhood = {\n",
    "    \"grvl\": data_grvl['Neighborhood'],\n",
    "    \"pave\": data_pave['Neighborhood']\n",
    "}\n",
    "\n",
    "feature_plots.BuildHist(datasets_neighborhood).categorical_hist()\n",
    "\n",
    "del datasets_neighborhood"
   ]
  },
  {
   "cell_type": "markdown",
   "id": "a881ce01",
   "metadata": {},
   "source": [
    "**Восстановим** данные там, где **однозначено определено значение по столбцу**."
   ]
  },
  {
   "cell_type": "code",
   "execution_count": 131,
   "id": "5fd9e115",
   "metadata": {},
   "outputs": [],
   "source": [
    "data_test_alley.loc[(data_test_alley['Neighborhood'] == 'Crawfor') & (data_test_alley['Alley'].isna()), 'Alley'] = 'Grvl'\n",
    "data_test_alley.loc[(data_test_alley['Neighborhood'] == 'Edwards') & (data_test_alley['Alley'].isna()), 'Alley'] = 'Grvl'\n",
    "data_test_alley.loc[(data_test_alley['Neighborhood'] == 'NAmes') & (data_test_alley['Alley'].isna()), 'Alley'] = 'Grvl'\n",
    "data_test_alley.loc[(data_test_alley['Neighborhood'] == 'Somerst') & (data_test_alley['Alley'].isna()), 'Alley'] = 'Pave'\n",
    "data_test_alley.loc[(data_test_alley['Neighborhood'] == 'BrkSide') & (data_test_alley['Alley'].isna()), 'Alley'] = 'Pave'"
   ]
  },
  {
   "cell_type": "code",
   "execution_count": 132,
   "id": "242b46c6",
   "metadata": {},
   "outputs": [
    {
     "name": "stdout",
     "output_type": "stream",
     "text": [
      "МАЕ Difference: -104.06\n"
     ]
    }
   ],
   "source": [
    "seven_step_mae = data_tools.PipelineManager(data_test_alley, baseline_model).get_baseline()\n",
    "print(f'МАЕ Difference: {round((seven_step_mae - six_step_mae), 2)}')"
   ]
  },
  {
   "cell_type": "markdown",
   "id": "64a7ae71",
   "metadata": {},
   "source": [
    "Суммарно не получится лучше, нежели заполнить эту фичу."
   ]
  },
  {
   "cell_type": "markdown",
   "id": "996d2b72",
   "metadata": {},
   "source": [
    "**Один из приёмов** по восстановлению данных **сработал**, но **выполним наилучшее действие**."
   ]
  },
  {
   "cell_type": "code",
   "execution_count": 133,
   "id": "5d78f046",
   "metadata": {},
   "outputs": [
    {
     "data": {
      "text/html": [
       "<div>\n",
       "<style scoped>\n",
       "    .dataframe tbody tr th:only-of-type {\n",
       "        vertical-align: middle;\n",
       "    }\n",
       "\n",
       "    .dataframe tbody tr th {\n",
       "        vertical-align: top;\n",
       "    }\n",
       "\n",
       "    .dataframe thead th {\n",
       "        text-align: right;\n",
       "    }\n",
       "</style>\n",
       "<table border=\"1\" class=\"dataframe\">\n",
       "  <thead>\n",
       "    <tr style=\"text-align: right;\">\n",
       "      <th></th>\n",
       "      <th>Difference MAE</th>\n",
       "      <th>Final MAE</th>\n",
       "    </tr>\n",
       "  </thead>\n",
       "  <tbody>\n",
       "    <tr>\n",
       "      <th>Baseline</th>\n",
       "      <td>0.00</td>\n",
       "      <td>17497.49</td>\n",
       "    </tr>\n",
       "    <tr>\n",
       "      <th>Drop</th>\n",
       "      <td>-34.92</td>\n",
       "      <td>17462.57</td>\n",
       "    </tr>\n",
       "    <tr>\n",
       "      <th>Fill</th>\n",
       "      <td>-53.00</td>\n",
       "      <td>17444.49</td>\n",
       "    </tr>\n",
       "    <tr>\n",
       "      <th>Mapping</th>\n",
       "      <td>115.50</td>\n",
       "      <td>17612.99</td>\n",
       "    </tr>\n",
       "    <tr>\n",
       "      <th>Bool</th>\n",
       "      <td>174.37</td>\n",
       "      <td>17671.86</td>\n",
       "    </tr>\n",
       "  </tbody>\n",
       "</table>\n",
       "</div>"
      ],
      "text/plain": [
       "          Difference MAE  Final MAE\n",
       "Baseline            0.00   17497.49\n",
       "Drop              -34.92   17462.57\n",
       "Fill              -53.00   17444.49\n",
       "Mapping           115.50   17612.99\n",
       "Bool              174.37   17671.86"
      ]
     },
     "metadata": {},
     "output_type": "display_data"
    },
    {
     "name": "stdout",
     "output_type": "stream",
     "text": [
      "Фича Alley заполнена меткой\n",
      "Фича Alley заполнена меткой\n"
     ]
    }
   ],
   "source": [
    "train, test = data_tools.Evaluate(train, test, 'Alley', baseline_model).info()"
   ]
  },
  {
   "cell_type": "markdown",
   "id": "9f270758",
   "metadata": {},
   "source": [
    "`MasVnrType` - Тип облицовки каменной кладкой"
   ]
  },
  {
   "cell_type": "code",
   "execution_count": 134,
   "id": "a3d159a9",
   "metadata": {},
   "outputs": [
    {
     "data": {
      "text/html": [
       "<div>\n",
       "<style scoped>\n",
       "    .dataframe tbody tr th:only-of-type {\n",
       "        vertical-align: middle;\n",
       "    }\n",
       "\n",
       "    .dataframe tbody tr th {\n",
       "        vertical-align: top;\n",
       "    }\n",
       "\n",
       "    .dataframe thead th {\n",
       "        text-align: right;\n",
       "    }\n",
       "</style>\n",
       "<table border=\"1\" class=\"dataframe\">\n",
       "  <thead>\n",
       "    <tr style=\"text-align: right;\">\n",
       "      <th></th>\n",
       "      <th>Difference MAE</th>\n",
       "      <th>Final MAE</th>\n",
       "    </tr>\n",
       "  </thead>\n",
       "  <tbody>\n",
       "    <tr>\n",
       "      <th>Baseline</th>\n",
       "      <td>0.00</td>\n",
       "      <td>17444.49</td>\n",
       "    </tr>\n",
       "    <tr>\n",
       "      <th>Drop</th>\n",
       "      <td>62.72</td>\n",
       "      <td>17507.21</td>\n",
       "    </tr>\n",
       "    <tr>\n",
       "      <th>Fill</th>\n",
       "      <td>158.92</td>\n",
       "      <td>17603.41</td>\n",
       "    </tr>\n",
       "    <tr>\n",
       "      <th>Mapping</th>\n",
       "      <td>226.59</td>\n",
       "      <td>17671.08</td>\n",
       "    </tr>\n",
       "    <tr>\n",
       "      <th>Bool</th>\n",
       "      <td>86.86</td>\n",
       "      <td>17531.35</td>\n",
       "    </tr>\n",
       "  </tbody>\n",
       "</table>\n",
       "</div>"
      ],
      "text/plain": [
       "          Difference MAE  Final MAE\n",
       "Baseline            0.00   17444.49\n",
       "Drop               62.72   17507.21\n",
       "Fill              158.92   17603.41\n",
       "Mapping           226.59   17671.08\n",
       "Bool               86.86   17531.35"
      ]
     },
     "metadata": {},
     "output_type": "display_data"
    },
    {
     "name": "stdout",
     "output_type": "stream",
     "text": [
      "Удалена фича MasVnrType\n",
      "Удалена фича MasVnrType\n"
     ]
    }
   ],
   "source": [
    "train, test = data_tools.Evaluate(train, test, 'MasVnrType', baseline_model).info()"
   ]
  },
  {
   "cell_type": "markdown",
   "id": "50724b69",
   "metadata": {},
   "source": [
    "**Немного потеряли в качестве** по этой фиче."
   ]
  },
  {
   "cell_type": "markdown",
   "id": "df112440",
   "metadata": {},
   "source": [
    "`Fence` - Забор"
   ]
  },
  {
   "cell_type": "code",
   "execution_count": 135,
   "id": "dfcaa505",
   "metadata": {},
   "outputs": [
    {
     "data": {
      "text/plain": [
       "Fence\n",
       "MnPrv    157\n",
       "GdPrv     59\n",
       "GdWo      54\n",
       "MnWw      11\n",
       "Name: count, dtype: int64"
      ]
     },
     "execution_count": 135,
     "metadata": {},
     "output_type": "execute_result"
    }
   ],
   "source": [
    "train['Fence'].value_counts()"
   ]
  },
  {
   "cell_type": "markdown",
   "id": "c3fff872",
   "metadata": {},
   "source": [
    "MnPrv — среднее качество ограды.\n",
    "\n",
    "GdPrv — хорошее качество ограды.\n",
    "\n",
    "GdWo — хорошая ограда без покрытия (без покрытия или \"без обработки\").\n",
    "\n",
    "MnWw — низкое качество ограды."
   ]
  },
  {
   "cell_type": "code",
   "execution_count": 136,
   "id": "25cb93cc",
   "metadata": {},
   "outputs": [
    {
     "data": {
      "text/html": [
       "<div>\n",
       "<style scoped>\n",
       "    .dataframe tbody tr th:only-of-type {\n",
       "        vertical-align: middle;\n",
       "    }\n",
       "\n",
       "    .dataframe tbody tr th {\n",
       "        vertical-align: top;\n",
       "    }\n",
       "\n",
       "    .dataframe thead th {\n",
       "        text-align: right;\n",
       "    }\n",
       "</style>\n",
       "<table border=\"1\" class=\"dataframe\">\n",
       "  <thead>\n",
       "    <tr style=\"text-align: right;\">\n",
       "      <th></th>\n",
       "      <th>Difference MAE</th>\n",
       "      <th>Final MAE</th>\n",
       "    </tr>\n",
       "  </thead>\n",
       "  <tbody>\n",
       "    <tr>\n",
       "      <th>Baseline</th>\n",
       "      <td>0.00</td>\n",
       "      <td>17507.21</td>\n",
       "    </tr>\n",
       "    <tr>\n",
       "      <th>Drop</th>\n",
       "      <td>64.97</td>\n",
       "      <td>17572.18</td>\n",
       "    </tr>\n",
       "    <tr>\n",
       "      <th>Fill</th>\n",
       "      <td>54.26</td>\n",
       "      <td>17561.47</td>\n",
       "    </tr>\n",
       "    <tr>\n",
       "      <th>Mapping</th>\n",
       "      <td>52.32</td>\n",
       "      <td>17559.53</td>\n",
       "    </tr>\n",
       "    <tr>\n",
       "      <th>Bool</th>\n",
       "      <td>39.54</td>\n",
       "      <td>17546.75</td>\n",
       "    </tr>\n",
       "  </tbody>\n",
       "</table>\n",
       "</div>"
      ],
      "text/plain": [
       "          Difference MAE  Final MAE\n",
       "Baseline            0.00   17507.21\n",
       "Drop               64.97   17572.18\n",
       "Fill               54.26   17561.47\n",
       "Mapping            52.32   17559.53\n",
       "Bool               39.54   17546.75"
      ]
     },
     "metadata": {},
     "output_type": "display_data"
    },
    {
     "name": "stdout",
     "output_type": "stream",
     "text": [
      "Фича преобразована в булевый тип Fence\n",
      "Фича преобразована в булевый тип Fence\n"
     ]
    }
   ],
   "source": [
    "train, test = data_tools.Evaluate(train, test, 'Fence', baseline_model).info()"
   ]
  },
  {
   "cell_type": "markdown",
   "id": "99377ca2",
   "metadata": {},
   "source": [
    "`FireplaceQu` - Качество камина"
   ]
  },
  {
   "cell_type": "code",
   "execution_count": 137,
   "id": "fc7fe688",
   "metadata": {},
   "outputs": [
    {
     "data": {
      "text/plain": [
       "FireplaceQu\n",
       "Gd    380\n",
       "TA    313\n",
       "Fa     33\n",
       "Ex     24\n",
       "Po     20\n",
       "Name: count, dtype: int64"
      ]
     },
     "execution_count": 137,
     "metadata": {},
     "output_type": "execute_result"
    }
   ],
   "source": [
    "train['FireplaceQu'].value_counts()"
   ]
  },
  {
   "cell_type": "markdown",
   "id": "f988828b",
   "metadata": {},
   "source": [
    "Gd — Good (хорошее качество камина).\n",
    "\n",
    "TA — Typical Average (среднее стандартное качество камина).\n",
    "\n",
    "Fa — Fair (небольшое ухудшение, камин в среднем состоянии).\n",
    "\n",
    "Po — Poor (плохое качество камина).\n",
    "\n",
    "Ex — Excellent (отличное качество камина)."
   ]
  },
  {
   "cell_type": "code",
   "execution_count": 138,
   "id": "0bc5bec1",
   "metadata": {},
   "outputs": [
    {
     "data": {
      "text/html": [
       "<div>\n",
       "<style scoped>\n",
       "    .dataframe tbody tr th:only-of-type {\n",
       "        vertical-align: middle;\n",
       "    }\n",
       "\n",
       "    .dataframe tbody tr th {\n",
       "        vertical-align: top;\n",
       "    }\n",
       "\n",
       "    .dataframe thead th {\n",
       "        text-align: right;\n",
       "    }\n",
       "</style>\n",
       "<table border=\"1\" class=\"dataframe\">\n",
       "  <thead>\n",
       "    <tr style=\"text-align: right;\">\n",
       "      <th></th>\n",
       "      <th>Difference MAE</th>\n",
       "      <th>Final MAE</th>\n",
       "    </tr>\n",
       "  </thead>\n",
       "  <tbody>\n",
       "    <tr>\n",
       "      <th>Baseline</th>\n",
       "      <td>0.00</td>\n",
       "      <td>17546.75</td>\n",
       "    </tr>\n",
       "    <tr>\n",
       "      <th>Drop</th>\n",
       "      <td>-176.17</td>\n",
       "      <td>17370.58</td>\n",
       "    </tr>\n",
       "    <tr>\n",
       "      <th>Fill</th>\n",
       "      <td>-156.69</td>\n",
       "      <td>17390.06</td>\n",
       "    </tr>\n",
       "    <tr>\n",
       "      <th>Mapping</th>\n",
       "      <td>-68.60</td>\n",
       "      <td>17478.15</td>\n",
       "    </tr>\n",
       "    <tr>\n",
       "      <th>Bool</th>\n",
       "      <td>-76.20</td>\n",
       "      <td>17470.55</td>\n",
       "    </tr>\n",
       "  </tbody>\n",
       "</table>\n",
       "</div>"
      ],
      "text/plain": [
       "          Difference MAE  Final MAE\n",
       "Baseline            0.00   17546.75\n",
       "Drop             -176.17   17370.58\n",
       "Fill             -156.69   17390.06\n",
       "Mapping           -68.60   17478.15\n",
       "Bool              -76.20   17470.55"
      ]
     },
     "metadata": {},
     "output_type": "display_data"
    },
    {
     "name": "stdout",
     "output_type": "stream",
     "text": [
      "Удалена фича FireplaceQu\n",
      "Удалена фича FireplaceQu\n"
     ]
    }
   ],
   "source": [
    "_ = data_tools.Evaluate(train, test, 'FireplaceQu', baseline_model).info()\n",
    "del _"
   ]
  },
  {
   "cell_type": "markdown",
   "id": "efa8db31",
   "metadata": {},
   "source": [
    "Скорее всего пропуски в этих данных **означает отсутствие камина.** Но удаление этой фичи показывает более лучший результат на модель, но не сильный."
   ]
  },
  {
   "cell_type": "code",
   "execution_count": 139,
   "id": "94c9053f",
   "metadata": {},
   "outputs": [
    {
     "name": "stdout",
     "output_type": "stream",
     "text": [
      "Среднее количество каминов: 0.0\n"
     ]
    }
   ],
   "source": [
    "print(f'Среднее количество каминов: {train['Fireplaces'][train['FireplaceQu'].isna()].mean()}')"
   ]
  },
  {
   "cell_type": "markdown",
   "id": "9f424ea1",
   "metadata": {},
   "source": [
    "**Гипотеза подтвердилась**, каминов в домах нет."
   ]
  },
  {
   "cell_type": "code",
   "execution_count": 140,
   "id": "4c2c5ba7",
   "metadata": {},
   "outputs": [
    {
     "data": {
      "text/html": [
       "<div>\n",
       "<style scoped>\n",
       "    .dataframe tbody tr th:only-of-type {\n",
       "        vertical-align: middle;\n",
       "    }\n",
       "\n",
       "    .dataframe tbody tr th {\n",
       "        vertical-align: top;\n",
       "    }\n",
       "\n",
       "    .dataframe thead th {\n",
       "        text-align: right;\n",
       "    }\n",
       "</style>\n",
       "<table border=\"1\" class=\"dataframe\">\n",
       "  <thead>\n",
       "    <tr style=\"text-align: right;\">\n",
       "      <th></th>\n",
       "      <th>Difference MAE</th>\n",
       "      <th>Final MAE</th>\n",
       "    </tr>\n",
       "  </thead>\n",
       "  <tbody>\n",
       "    <tr>\n",
       "      <th>Baseline</th>\n",
       "      <td>0.00</td>\n",
       "      <td>17546.75</td>\n",
       "    </tr>\n",
       "    <tr>\n",
       "      <th>Drop</th>\n",
       "      <td>-176.17</td>\n",
       "      <td>17370.58</td>\n",
       "    </tr>\n",
       "    <tr>\n",
       "      <th>Fill</th>\n",
       "      <td>-156.69</td>\n",
       "      <td>17390.06</td>\n",
       "    </tr>\n",
       "    <tr>\n",
       "      <th>Mapping</th>\n",
       "      <td>-68.60</td>\n",
       "      <td>17478.15</td>\n",
       "    </tr>\n",
       "    <tr>\n",
       "      <th>Bool</th>\n",
       "      <td>-76.20</td>\n",
       "      <td>17470.55</td>\n",
       "    </tr>\n",
       "  </tbody>\n",
       "</table>\n",
       "</div>"
      ],
      "text/plain": [
       "          Difference MAE  Final MAE\n",
       "Baseline            0.00   17546.75\n",
       "Drop             -176.17   17370.58\n",
       "Fill             -156.69   17390.06\n",
       "Mapping           -68.60   17478.15\n",
       "Bool              -76.20   17470.55"
      ]
     },
     "metadata": {},
     "output_type": "display_data"
    },
    {
     "name": "stdout",
     "output_type": "stream",
     "text": [
      "Удалена фича FireplaceQu\n",
      "Удалена фича FireplaceQu\n"
     ]
    }
   ],
   "source": [
    "train, test = data_tools.Evaluate(train, test, 'FireplaceQu', baseline_model).info()"
   ]
  },
  {
   "cell_type": "markdown",
   "id": "d957137b",
   "metadata": {},
   "source": [
    "Т.к. модель посчитала, что **удаление является лучшим результатом**, то можно утверждать - **люди при покупке квартиры не обращают внимание на качество камина**."
   ]
  },
  {
   "cell_type": "markdown",
   "id": "e02ffa62",
   "metadata": {},
   "source": [
    "`Electrical`"
   ]
  },
  {
   "cell_type": "code",
   "execution_count": 141,
   "id": "7b21530a",
   "metadata": {},
   "outputs": [
    {
     "name": "stdout",
     "output_type": "stream",
     "text": [
      "Количество пропущенных данных: 1\n"
     ]
    }
   ],
   "source": [
    "print(f'Количество пропущенных данных: {train['Electrical'].isna().sum()}')"
   ]
  },
  {
   "cell_type": "markdown",
   "id": "ad37b93a",
   "metadata": {},
   "source": [
    "В этой фиче **пропущена одна строка, поэтому удалим ее**."
   ]
  },
  {
   "cell_type": "code",
   "execution_count": 142,
   "id": "d962ca38",
   "metadata": {},
   "outputs": [],
   "source": [
    "train = train.dropna(subset=['Electrical'])"
   ]
  },
  {
   "cell_type": "markdown",
   "id": "41eefd05",
   "metadata": {},
   "source": [
    "**Итоговая метрика** после предобработки **категориальных** фичей."
   ]
  },
  {
   "cell_type": "code",
   "execution_count": 143,
   "id": "ae1bb873",
   "metadata": {},
   "outputs": [
    {
     "name": "stdout",
     "output_type": "stream",
     "text": [
      "МАЕ Forest: 16376.22\n",
      "Разница MAE после преобработки: -1210.23\n"
     ]
    }
   ],
   "source": [
    "categorical_mae = data_tools.PipelineManager(train, baseline_model).get_baseline()\n",
    "print(f'МАЕ Forest: {categorical_mae}')\n",
    "print(f'Разница MAE после преобработки: {round((categorical_mae - baseline_mae['MAE']),2)}')"
   ]
  },
  {
   "cell_type": "markdown",
   "id": "83854063",
   "metadata": {},
   "source": [
    "После длительной преобработки категориальных фичей **получили более лучшее значение МАЕ** по сравнению с МАЕ перед преобработкой."
   ]
  },
  {
   "cell_type": "markdown",
   "id": "b6a8bf12",
   "metadata": {},
   "source": [
    "##### 4.2. Количественные переменные c пропусками"
   ]
  },
  {
   "cell_type": "markdown",
   "id": "69ab34c2",
   "metadata": {},
   "source": [
    "`LotFrontage` - Линейные футы улицы, прилегающей к участку"
   ]
  },
  {
   "cell_type": "markdown",
   "id": "9947884a",
   "metadata": {},
   "source": [
    "**Посмотрим распредение** LotFrontage."
   ]
  },
  {
   "cell_type": "code",
   "execution_count": 144,
   "id": "b06023ef",
   "metadata": {},
   "outputs": [
    {
     "data": {
      "image/png": "[encoded data removed]",
      "text/plain": [
       "<Figure size 1000x600 with 1 Axes>"
      ]
     },
     "metadata": {},
     "output_type": "display_data"
    }
   ],
   "source": [
    "feature_plots.BuildHist(train['LotFrontage']).numeric_plot()"
   ]
  },
  {
   "cell_type": "markdown",
   "id": "6ffa7606",
   "metadata": {},
   "source": [
    "Так же **посмотрим на выбросы**."
   ]
  },
  {
   "cell_type": "code",
   "execution_count": 145,
   "id": "691dd35c",
   "metadata": {},
   "outputs": [
    {
     "data": {
      "image/png": "[encoded data removed]",
      "text/plain": [
       "<Figure size 1000x600 with 1 Axes>"
      ]
     },
     "metadata": {},
     "output_type": "display_data"
    }
   ],
   "source": [
    "feature_plots.BuildHist(train['LotFrontage']).numeric_boxplot()"
   ]
  },
  {
   "cell_type": "markdown",
   "id": "29aa6abe",
   "metadata": {},
   "source": [
    "Так как **датасет основан на данных США**, то такие **большие значения прилегающей улицы явление нормальное**.\n",
    "\n",
    "Осталось **исследовать пропущенные данные**."
   ]
  },
  {
   "cell_type": "code",
   "execution_count": 146,
   "id": "5410c07b",
   "metadata": {},
   "outputs": [
    {
     "name": "stdout",
     "output_type": "stream",
     "text": [
      "Количество пропущенных данных: 259\n"
     ]
    }
   ],
   "source": [
    "print(f'Количество пропущенных данных: {train['LotFrontage'].isna().sum()}')"
   ]
  },
  {
   "cell_type": "markdown",
   "id": "67aa7a80",
   "metadata": {},
   "source": [
    "Проверим разные действия над этой фичей."
   ]
  },
  {
   "cell_type": "code",
   "execution_count": 147,
   "id": "81a53e12",
   "metadata": {},
   "outputs": [
    {
     "data": {
      "text/html": [
       "<div>\n",
       "<style scoped>\n",
       "    .dataframe tbody tr th:only-of-type {\n",
       "        vertical-align: middle;\n",
       "    }\n",
       "\n",
       "    .dataframe tbody tr th {\n",
       "        vertical-align: top;\n",
       "    }\n",
       "\n",
       "    .dataframe thead th {\n",
       "        text-align: right;\n",
       "    }\n",
       "</style>\n",
       "<table border=\"1\" class=\"dataframe\">\n",
       "  <thead>\n",
       "    <tr style=\"text-align: right;\">\n",
       "      <th></th>\n",
       "      <th>Difference MAE</th>\n",
       "      <th>Final MAE</th>\n",
       "    </tr>\n",
       "  </thead>\n",
       "  <tbody>\n",
       "    <tr>\n",
       "      <th>Baseline</th>\n",
       "      <td>0.00</td>\n",
       "      <td>16376.22</td>\n",
       "    </tr>\n",
       "    <tr>\n",
       "      <th>Drop</th>\n",
       "      <td>-35.03</td>\n",
       "      <td>16341.19</td>\n",
       "    </tr>\n",
       "    <tr>\n",
       "      <th>Median</th>\n",
       "      <td>100.94</td>\n",
       "      <td>16477.16</td>\n",
       "    </tr>\n",
       "    <tr>\n",
       "      <th>Mean</th>\n",
       "      <td>12.08</td>\n",
       "      <td>16388.30</td>\n",
       "    </tr>\n",
       "    <tr>\n",
       "      <th>Mode</th>\n",
       "      <td>26.20</td>\n",
       "      <td>16402.42</td>\n",
       "    </tr>\n",
       "  </tbody>\n",
       "</table>\n",
       "</div>"
      ],
      "text/plain": [
       "          Difference MAE  Final MAE\n",
       "Baseline            0.00   16376.22\n",
       "Drop              -35.03   16341.19\n",
       "Median            100.94   16477.16\n",
       "Mean               12.08   16388.30\n",
       "Mode               26.20   16402.42"
      ]
     },
     "metadata": {},
     "output_type": "display_data"
    },
    {
     "name": "stdout",
     "output_type": "stream",
     "text": [
      "Удалена фича LotFrontage\n",
      "Удалена фича LotFrontage\n"
     ]
    }
   ],
   "source": [
    "train, test = data_tools.Evaluate(train, test, 'LotFrontage', baseline_model).info()"
   ]
  },
  {
   "cell_type": "markdown",
   "id": "316d1d5c",
   "metadata": {},
   "source": [
    "Получили **небольшой прирост по МАЕ после удаления** этой фичи и это говорит о том, что она **является не нужной**."
   ]
  },
  {
   "cell_type": "markdown",
   "id": "b6c5cfc9",
   "metadata": {},
   "source": [
    "`MasVnrArea` - Площадь облицовки каменной кладкой в ​​квадратных футах  "
   ]
  },
  {
   "cell_type": "markdown",
   "id": "cd51d8a5",
   "metadata": {},
   "source": [
    "**Посмотрим распределение** MasVnrArea."
   ]
  },
  {
   "cell_type": "code",
   "execution_count": 148,
   "id": "1447c16f",
   "metadata": {},
   "outputs": [
    {
     "data": {
      "image/png": "[encoded data removed]",
      "text/plain": [
       "<Figure size 1000x600 with 1 Axes>"
      ]
     },
     "metadata": {},
     "output_type": "display_data"
    }
   ],
   "source": [
    "feature_plots.BuildHist(train['MasVnrArea']).numeric_plot()"
   ]
  },
  {
   "cell_type": "markdown",
   "id": "0d5ee294",
   "metadata": {},
   "source": [
    "**Посмотрим выбросы** MasVnrArea"
   ]
  },
  {
   "cell_type": "code",
   "execution_count": 149,
   "id": "3042bf9a",
   "metadata": {},
   "outputs": [
    {
     "data": {
      "image/png": "[encoded data removed]",
      "text/plain": [
       "<Figure size 1000x600 with 1 Axes>"
      ]
     },
     "metadata": {},
     "output_type": "display_data"
    }
   ],
   "source": [
    "feature_plots.BuildHist(train['MasVnrArea']).numeric_boxplot()"
   ]
  },
  {
   "cell_type": "markdown",
   "id": "3dba4b6d",
   "metadata": {},
   "source": [
    "Посмотрим параметры здания у которых MasVnrArea более 1000."
   ]
  },
  {
   "cell_type": "code",
   "execution_count": 150,
   "id": "46fd90de",
   "metadata": {},
   "outputs": [
    {
     "data": {
      "text/html": [
       "<div>\n",
       "<style scoped>\n",
       "    .dataframe tbody tr th:only-of-type {\n",
       "        vertical-align: middle;\n",
       "    }\n",
       "\n",
       "    .dataframe tbody tr th {\n",
       "        vertical-align: top;\n",
       "    }\n",
       "\n",
       "    .dataframe thead th {\n",
       "        text-align: right;\n",
       "    }\n",
       "</style>\n",
       "<table border=\"1\" class=\"dataframe\">\n",
       "  <thead>\n",
       "    <tr style=\"text-align: right;\">\n",
       "      <th></th>\n",
       "      <th>MasVnrArea</th>\n",
       "      <th>LotArea</th>\n",
       "      <th>YearBuilt</th>\n",
       "      <th>SalePrice</th>\n",
       "    </tr>\n",
       "  </thead>\n",
       "  <tbody>\n",
       "    <tr>\n",
       "      <th>58</th>\n",
       "      <td>1031.0</td>\n",
       "      <td>13682</td>\n",
       "      <td>2006</td>\n",
       "      <td>438780</td>\n",
       "    </tr>\n",
       "    <tr>\n",
       "      <th>70</th>\n",
       "      <td>1115.0</td>\n",
       "      <td>13651</td>\n",
       "      <td>1973</td>\n",
       "      <td>244000</td>\n",
       "    </tr>\n",
       "    <tr>\n",
       "      <th>115</th>\n",
       "      <td>1129.0</td>\n",
       "      <td>3230</td>\n",
       "      <td>1999</td>\n",
       "      <td>176000</td>\n",
       "    </tr>\n",
       "    <tr>\n",
       "      <th>297</th>\n",
       "      <td>1600.0</td>\n",
       "      <td>7399</td>\n",
       "      <td>1997</td>\n",
       "      <td>239000</td>\n",
       "    </tr>\n",
       "    <tr>\n",
       "      <th>691</th>\n",
       "      <td>1170.0</td>\n",
       "      <td>21535</td>\n",
       "      <td>1994</td>\n",
       "      <td>755000</td>\n",
       "    </tr>\n",
       "    <tr>\n",
       "      <th>808</th>\n",
       "      <td>1047.0</td>\n",
       "      <td>13400</td>\n",
       "      <td>1966</td>\n",
       "      <td>159950</td>\n",
       "    </tr>\n",
       "    <tr>\n",
       "      <th>1169</th>\n",
       "      <td>1378.0</td>\n",
       "      <td>35760</td>\n",
       "      <td>1995</td>\n",
       "      <td>625000</td>\n",
       "    </tr>\n",
       "  </tbody>\n",
       "</table>\n",
       "</div>"
      ],
      "text/plain": [
       "      MasVnrArea  LotArea  YearBuilt  SalePrice\n",
       "58        1031.0    13682       2006     438780\n",
       "70        1115.0    13651       1973     244000\n",
       "115       1129.0     3230       1999     176000\n",
       "297       1600.0     7399       1997     239000\n",
       "691       1170.0    21535       1994     755000\n",
       "808       1047.0    13400       1966     159950\n",
       "1169      1378.0    35760       1995     625000"
      ]
     },
     "execution_count": 150,
     "metadata": {},
     "output_type": "execute_result"
    }
   ],
   "source": [
    "train.loc[train['MasVnrArea'] > 1000, ['MasVnrArea', 'LotArea', 'YearBuilt', 'SalePrice']]"
   ]
  },
  {
   "cell_type": "markdown",
   "id": "a9e96a4f",
   "metadata": {},
   "source": [
    "Скорее всего **данные с индексами 115 и 297 являются выбросами**."
   ]
  },
  {
   "cell_type": "code",
   "execution_count": 151,
   "id": "49b70de8",
   "metadata": {},
   "outputs": [
    {
     "name": "stdout",
     "output_type": "stream",
     "text": [
      "МАЕ Difference: -344.57\n"
     ]
    }
   ],
   "source": [
    "before_drop_mae = data_tools.PipelineManager(train, baseline_model).get_baseline()\n",
    "train = train.drop(index=[115, 297])\n",
    "eight_step_mae = data_tools.PipelineManager(train, baseline_model).get_baseline()\n",
    "print(f'МАЕ Difference: {round((eight_step_mae - before_drop_mae), 2)}')"
   ]
  },
  {
   "cell_type": "markdown",
   "id": "00db9295",
   "metadata": {},
   "source": [
    "**(!) Улучшение на 344 доллара (По МАЕ) после удаление двух строк**."
   ]
  },
  {
   "cell_type": "markdown",
   "id": "f5d3b3bc",
   "metadata": {},
   "source": [
    "Теперь примененим стандартные действия над фичей."
   ]
  },
  {
   "cell_type": "code",
   "execution_count": 152,
   "id": "797f8005",
   "metadata": {},
   "outputs": [
    {
     "data": {
      "text/html": [
       "<div>\n",
       "<style scoped>\n",
       "    .dataframe tbody tr th:only-of-type {\n",
       "        vertical-align: middle;\n",
       "    }\n",
       "\n",
       "    .dataframe tbody tr th {\n",
       "        vertical-align: top;\n",
       "    }\n",
       "\n",
       "    .dataframe thead th {\n",
       "        text-align: right;\n",
       "    }\n",
       "</style>\n",
       "<table border=\"1\" class=\"dataframe\">\n",
       "  <thead>\n",
       "    <tr style=\"text-align: right;\">\n",
       "      <th></th>\n",
       "      <th>Difference MAE</th>\n",
       "      <th>Final MAE</th>\n",
       "    </tr>\n",
       "  </thead>\n",
       "  <tbody>\n",
       "    <tr>\n",
       "      <th>Baseline</th>\n",
       "      <td>0.00</td>\n",
       "      <td>15996.62</td>\n",
       "    </tr>\n",
       "    <tr>\n",
       "      <th>Drop</th>\n",
       "      <td>137.46</td>\n",
       "      <td>16134.08</td>\n",
       "    </tr>\n",
       "    <tr>\n",
       "      <th>Median</th>\n",
       "      <td>-6.01</td>\n",
       "      <td>15990.61</td>\n",
       "    </tr>\n",
       "    <tr>\n",
       "      <th>Mean</th>\n",
       "      <td>-0.01</td>\n",
       "      <td>15996.61</td>\n",
       "    </tr>\n",
       "    <tr>\n",
       "      <th>Mode</th>\n",
       "      <td>-6.01</td>\n",
       "      <td>15990.61</td>\n",
       "    </tr>\n",
       "  </tbody>\n",
       "</table>\n",
       "</div>"
      ],
      "text/plain": [
       "          Difference MAE  Final MAE\n",
       "Baseline            0.00   15996.62\n",
       "Drop              137.46   16134.08\n",
       "Median             -6.01   15990.61\n",
       "Mean               -0.01   15996.61\n",
       "Mode               -6.01   15990.61"
      ]
     },
     "metadata": {},
     "output_type": "display_data"
    },
    {
     "name": "stdout",
     "output_type": "stream",
     "text": [
      "Фича заполнена медианой MasVnrArea\n",
      "Фича заполнена медианой MasVnrArea\n"
     ]
    }
   ],
   "source": [
    "train, _ = data_tools.Evaluate(train, test, 'MasVnrArea', baseline_model).info()"
   ]
  },
  {
   "cell_type": "code",
   "execution_count": 153,
   "id": "f132627f",
   "metadata": {},
   "outputs": [
    {
     "name": "stdout",
     "output_type": "stream",
     "text": [
      "Количество пропущенных данных: 0\n"
     ]
    }
   ],
   "source": [
    "print(f'Количество пропущенных данных: {train['MasVnrArea'].isna().sum()}')"
   ]
  },
  {
   "cell_type": "markdown",
   "id": "fff868e6",
   "metadata": {},
   "source": [
    "`GarageYrBlt` - Год постройки гаража"
   ]
  },
  {
   "cell_type": "code",
   "execution_count": 154,
   "id": "1df34119",
   "metadata": {},
   "outputs": [
    {
     "data": {
      "text/html": [
       "<div>\n",
       "<style scoped>\n",
       "    .dataframe tbody tr th:only-of-type {\n",
       "        vertical-align: middle;\n",
       "    }\n",
       "\n",
       "    .dataframe tbody tr th {\n",
       "        vertical-align: top;\n",
       "    }\n",
       "\n",
       "    .dataframe thead th {\n",
       "        text-align: right;\n",
       "    }\n",
       "</style>\n",
       "<table border=\"1\" class=\"dataframe\">\n",
       "  <thead>\n",
       "    <tr style=\"text-align: right;\">\n",
       "      <th></th>\n",
       "      <th>GarageArea</th>\n",
       "      <th>GarageCars</th>\n",
       "      <th>GarageCond</th>\n",
       "      <th>GarageFinish</th>\n",
       "      <th>GarageQual</th>\n",
       "      <th>GarageCond</th>\n",
       "      <th>GarageYrBlt</th>\n",
       "    </tr>\n",
       "  </thead>\n",
       "  <tbody>\n",
       "    <tr>\n",
       "      <th>39</th>\n",
       "      <td>0</td>\n",
       "      <td>0</td>\n",
       "      <td>No garage</td>\n",
       "      <td>No garage</td>\n",
       "      <td>No garage</td>\n",
       "      <td>No garage</td>\n",
       "      <td>NaN</td>\n",
       "    </tr>\n",
       "    <tr>\n",
       "      <th>48</th>\n",
       "      <td>0</td>\n",
       "      <td>0</td>\n",
       "      <td>No garage</td>\n",
       "      <td>No garage</td>\n",
       "      <td>No garage</td>\n",
       "      <td>No garage</td>\n",
       "      <td>NaN</td>\n",
       "    </tr>\n",
       "    <tr>\n",
       "      <th>78</th>\n",
       "      <td>0</td>\n",
       "      <td>0</td>\n",
       "      <td>No garage</td>\n",
       "      <td>No garage</td>\n",
       "      <td>No garage</td>\n",
       "      <td>No garage</td>\n",
       "      <td>NaN</td>\n",
       "    </tr>\n",
       "    <tr>\n",
       "      <th>88</th>\n",
       "      <td>0</td>\n",
       "      <td>0</td>\n",
       "      <td>No garage</td>\n",
       "      <td>No garage</td>\n",
       "      <td>No garage</td>\n",
       "      <td>No garage</td>\n",
       "      <td>NaN</td>\n",
       "    </tr>\n",
       "    <tr>\n",
       "      <th>89</th>\n",
       "      <td>0</td>\n",
       "      <td>0</td>\n",
       "      <td>No garage</td>\n",
       "      <td>No garage</td>\n",
       "      <td>No garage</td>\n",
       "      <td>No garage</td>\n",
       "      <td>NaN</td>\n",
       "    </tr>\n",
       "  </tbody>\n",
       "</table>\n",
       "</div>"
      ],
      "text/plain": [
       "    GarageArea  GarageCars GarageCond GarageFinish GarageQual GarageCond  \\\n",
       "39           0           0  No garage    No garage  No garage  No garage   \n",
       "48           0           0  No garage    No garage  No garage  No garage   \n",
       "78           0           0  No garage    No garage  No garage  No garage   \n",
       "88           0           0  No garage    No garage  No garage  No garage   \n",
       "89           0           0  No garage    No garage  No garage  No garage   \n",
       "\n",
       "    GarageYrBlt  \n",
       "39          NaN  \n",
       "48          NaN  \n",
       "78          NaN  \n",
       "88          NaN  \n",
       "89          NaN  "
      ]
     },
     "execution_count": 154,
     "metadata": {},
     "output_type": "execute_result"
    }
   ],
   "source": [
    "missing_year = train.loc[train['GarageYrBlt'].isna(), ['GarageArea', 'GarageCars', 'GarageCond', 'GarageFinish', 'GarageQual', 'GarageCond', 'GarageYrBlt']]\n",
    "missing_year.head(5)"
   ]
  },
  {
   "cell_type": "code",
   "execution_count": 155,
   "id": "31f67e3c",
   "metadata": {},
   "outputs": [
    {
     "name": "stdout",
     "output_type": "stream",
     "text": [
      "Среднее значение GarageArea: 0.0\n",
      "Среднее значение GarageCars: 0.0\n"
     ]
    }
   ],
   "source": [
    "print(f'Среднее значение GarageArea: {missing_year['GarageArea'].mean()}')\n",
    "print(f'Среднее значение GarageCars: {missing_year['GarageCars'].mean()}')"
   ]
  },
  {
   "cell_type": "markdown",
   "id": "0d1b60bc",
   "metadata": {},
   "source": [
    "По этим строкам видно почему **данные по году постройки гаража пропущены - гараж вовсе отсутствует**."
   ]
  },
  {
   "cell_type": "code",
   "execution_count": 156,
   "id": "c16101e7",
   "metadata": {},
   "outputs": [
    {
     "data": {
      "text/html": [
       "<div>\n",
       "<style scoped>\n",
       "    .dataframe tbody tr th:only-of-type {\n",
       "        vertical-align: middle;\n",
       "    }\n",
       "\n",
       "    .dataframe tbody tr th {\n",
       "        vertical-align: top;\n",
       "    }\n",
       "\n",
       "    .dataframe thead th {\n",
       "        text-align: right;\n",
       "    }\n",
       "</style>\n",
       "<table border=\"1\" class=\"dataframe\">\n",
       "  <thead>\n",
       "    <tr style=\"text-align: right;\">\n",
       "      <th></th>\n",
       "      <th>Difference MAE</th>\n",
       "      <th>Final MAE</th>\n",
       "    </tr>\n",
       "  </thead>\n",
       "  <tbody>\n",
       "    <tr>\n",
       "      <th>Baseline</th>\n",
       "      <td>0.00</td>\n",
       "      <td>15990.61</td>\n",
       "    </tr>\n",
       "    <tr>\n",
       "      <th>Drop</th>\n",
       "      <td>83.09</td>\n",
       "      <td>16073.70</td>\n",
       "    </tr>\n",
       "    <tr>\n",
       "      <th>Median</th>\n",
       "      <td>17.86</td>\n",
       "      <td>16008.47</td>\n",
       "    </tr>\n",
       "    <tr>\n",
       "      <th>Mean</th>\n",
       "      <td>-8.74</td>\n",
       "      <td>15981.87</td>\n",
       "    </tr>\n",
       "    <tr>\n",
       "      <th>Mode</th>\n",
       "      <td>37.57</td>\n",
       "      <td>16028.18</td>\n",
       "    </tr>\n",
       "  </tbody>\n",
       "</table>\n",
       "</div>"
      ],
      "text/plain": [
       "          Difference MAE  Final MAE\n",
       "Baseline            0.00   15990.61\n",
       "Drop               83.09   16073.70\n",
       "Median             17.86   16008.47\n",
       "Mean               -8.74   15981.87\n",
       "Mode               37.57   16028.18"
      ]
     },
     "metadata": {},
     "output_type": "display_data"
    },
    {
     "name": "stdout",
     "output_type": "stream",
     "text": [
      "Фича заполнена средним GarageYrBlt\n",
      "Фича заполнена средним GarageYrBlt\n"
     ]
    }
   ],
   "source": [
    "train, _ = data_tools.Evaluate(train, test, 'GarageYrBlt', baseline_model).info()\n"
   ]
  },
  {
   "cell_type": "markdown",
   "id": "2e77a28c",
   "metadata": {},
   "source": [
    "**Итоговая метрика** после предобработки **количественных** фичей."
   ]
  },
  {
   "cell_type": "code",
   "execution_count": 157,
   "id": "ace47343",
   "metadata": {},
   "outputs": [
    {
     "name": "stdout",
     "output_type": "stream",
     "text": [
      "МАЕ Forest: 16376.22\n",
      "Разница MAE после преобработки: -394.35\n"
     ]
    }
   ],
   "source": [
    "numeric_mae = data_tools.PipelineManager(train, baseline_model).get_baseline()\n",
    "print(f'МАЕ Forest: {categorical_mae}')\n",
    "print(f'Разница MAE после преобработки: {round((numeric_mae - categorical_mae),2)}')"
   ]
  },
  {
   "cell_type": "markdown",
   "id": "a33f504f",
   "metadata": {},
   "source": [
    "##### 4.3. Проверка на мультиколлениарность"
   ]
  },
  {
   "cell_type": "markdown",
   "id": "482db1c2",
   "metadata": {},
   "source": [
    "**Важной частью предобработки** является проверка на мультиколлениарность. Не избавившись от них модель может хуже улавливать связи."
   ]
  },
  {
   "cell_type": "code",
   "execution_count": 158,
   "id": "7dd00149",
   "metadata": {},
   "outputs": [],
   "source": [
    "scaler = StandardScaler()"
   ]
  },
  {
   "cell_type": "code",
   "execution_count": 159,
   "id": "cd47e91c",
   "metadata": {},
   "outputs": [
    {
     "data": {
      "image/png": "[encoded data removed]",
      "text/plain": [
       "<Figure size 1800x900 with 2 Axes>"
      ]
     },
     "metadata": {},
     "output_type": "display_data"
    }
   ],
   "source": [
    "matrix, fig = data_tools.DataPreprocessor(train).check_multicollinearity(scaler, threshold=0.5)"
   ]
  },
  {
   "cell_type": "markdown",
   "id": "3bebd24b",
   "metadata": {},
   "source": [
    "**Сильно коррелирующие столбцы**:\n",
    "\n",
    " - OverallQual и SalePrice - Чем выше качество отделки, тем выше стоимость жилья. \n",
    "\n",
    " - 1stFlrSF и TotalBsmtSF - Чем больше кв. футы первого этажа, тем выше общая площадь подвала. Это утверждение логично.\n",
    "\n",
    " - TotRmsAbvGrd и GrLivArea - Чем выше общее количество комнат, тем выше жилая площадь над уровнем земли.\n",
    "\n",
    " - GarageArea и GarageCars - Чем выше общая площадь гаража, тем выше вместительность для автомобилей.\n",
    "\n",
    " - PoolQC и PoolArea - Наличие бассейна указывает на наличие данных в площади бассейна.\n",
    "\n",
    "Проверим что будет, **если избавимся от этих строк**."
   ]
  },
  {
   "cell_type": "code",
   "execution_count": 160,
   "id": "ef6d2e8c",
   "metadata": {},
   "outputs": [
    {
     "data": {
      "text/html": [
       "<div>\n",
       "<style scoped>\n",
       "    .dataframe tbody tr th:only-of-type {\n",
       "        vertical-align: middle;\n",
       "    }\n",
       "\n",
       "    .dataframe tbody tr th {\n",
       "        vertical-align: top;\n",
       "    }\n",
       "\n",
       "    .dataframe thead th {\n",
       "        text-align: right;\n",
       "    }\n",
       "</style>\n",
       "<table border=\"1\" class=\"dataframe\">\n",
       "  <thead>\n",
       "    <tr style=\"text-align: right;\">\n",
       "      <th></th>\n",
       "      <th>Difference MAE</th>\n",
       "    </tr>\n",
       "  </thead>\n",
       "  <tbody>\n",
       "    <tr>\n",
       "      <th>OverallQual</th>\n",
       "      <td>1100.76</td>\n",
       "    </tr>\n",
       "    <tr>\n",
       "      <th>1stFlrSF</th>\n",
       "      <td>1065.28</td>\n",
       "    </tr>\n",
       "    <tr>\n",
       "      <th>TotRmsAbvGrd</th>\n",
       "      <td>1009.35</td>\n",
       "    </tr>\n",
       "    <tr>\n",
       "      <th>GarageCars</th>\n",
       "      <td>969.11</td>\n",
       "    </tr>\n",
       "    <tr>\n",
       "      <th>PoolArea</th>\n",
       "      <td>979.87</td>\n",
       "    </tr>\n",
       "  </tbody>\n",
       "</table>\n",
       "</div>"
      ],
      "text/plain": [
       "              Difference MAE\n",
       "OverallQual          1100.76\n",
       "1stFlrSF             1065.28\n",
       "TotRmsAbvGrd         1009.35\n",
       "GarageCars            969.11\n",
       "PoolArea              979.87"
      ]
     },
     "execution_count": 160,
     "metadata": {},
     "output_type": "execute_result"
    }
   ],
   "source": [
    "drop_columns = ['OverallQual', '1stFlrSF', 'TotRmsAbvGrd', 'GarageCars', 'PoolArea']\n",
    "df = train.copy()\n",
    "data_tools.Evaluate(df, test=None, columns=drop_columns, model=baseline_model).evaluate_feature()"
   ]
  },
  {
   "cell_type": "markdown",
   "id": "07388bae",
   "metadata": {},
   "source": [
    "Несмотря на то, что столбцы сильно коррелируют, **обычное удаление сильно ухудшает модель**. Скорее всего другие **переменные влияют на коррелирующие фичи**, поэтому можно предположить, что **взаимносвязь нелинейная**. \n",
    "\n",
    "**Пример:** Рост и вес человека обычно всегда с положительной корреляцией причем сильной. Но важно учесть возраст человека, т.к. до 20 лет эта связь гораздо сильнее, т.к. он растет, нежели потом. "
   ]
  },
  {
   "cell_type": "markdown",
   "id": "7826788d",
   "metadata": {},
   "source": [
    "##### 4.4. Оценка важности признаков"
   ]
  },
  {
   "cell_type": "markdown",
   "id": "4c77bdd1",
   "metadata": {},
   "source": [
    "**Произведем отбор признаков** через RandomForest."
   ]
  },
  {
   "cell_type": "code",
   "execution_count": 161,
   "id": "182c03e9",
   "metadata": {},
   "outputs": [],
   "source": [
    "search_model = RandomForestRegressor(n_jobs=-1)"
   ]
  },
  {
   "cell_type": "code",
   "execution_count": 162,
   "id": "08435689",
   "metadata": {},
   "outputs": [],
   "source": [
    "search_params = {\n",
    "    'reg__n_estimators' : randint(20, 700),\n",
    "    'reg__max_depth' : randint(3, 20),\n",
    "    'reg__min_samples_split': randint(2, 10),\n",
    "    'reg__min_samples_leaf': randint(1, 4)\n",
    "}"
   ]
  },
  {
   "cell_type": "code",
   "execution_count": 163,
   "id": "ce650221",
   "metadata": {},
   "outputs": [
    {
     "name": "stdout",
     "output_type": "stream",
     "text": [
      "Fitting 5 folds for each of 10 candidates, totalling 50 fits\n",
      "Лучшие параметры модели: {'reg__max_depth': 19, 'reg__min_samples_leaf': 2, 'reg__min_samples_split': 3, 'reg__n_estimators': 405}\n",
      "MAE модели: 15987.45\n"
     ]
    }
   ],
   "source": [
    "search = data_tools.PipelineManager(train, search_model).train_model(search_params)"
   ]
  },
  {
   "cell_type": "markdown",
   "id": "5c94310a",
   "metadata": {},
   "source": [
    "**Оценим важность признаков**."
   ]
  },
  {
   "cell_type": "code",
   "execution_count": 164,
   "id": "d34bf6ad",
   "metadata": {},
   "outputs": [
    {
     "data": {
      "text/html": [
       "<div>\n",
       "<style scoped>\n",
       "    .dataframe tbody tr th:only-of-type {\n",
       "        vertical-align: middle;\n",
       "    }\n",
       "\n",
       "    .dataframe tbody tr th {\n",
       "        vertical-align: top;\n",
       "    }\n",
       "\n",
       "    .dataframe thead th {\n",
       "        text-align: right;\n",
       "    }\n",
       "</style>\n",
       "<table border=\"1\" class=\"dataframe\">\n",
       "  <thead>\n",
       "    <tr style=\"text-align: right;\">\n",
       "      <th></th>\n",
       "      <th>Importance</th>\n",
       "    </tr>\n",
       "  </thead>\n",
       "  <tbody>\n",
       "    <tr>\n",
       "      <th>OverallQual</th>\n",
       "      <td>0.31</td>\n",
       "    </tr>\n",
       "    <tr>\n",
       "      <th>GrLivArea</th>\n",
       "      <td>0.14</td>\n",
       "    </tr>\n",
       "    <tr>\n",
       "      <th>TotalBsmtSF</th>\n",
       "      <td>0.03</td>\n",
       "    </tr>\n",
       "    <tr>\n",
       "      <th>BsmtFinSF1</th>\n",
       "      <td>0.02</td>\n",
       "    </tr>\n",
       "    <tr>\n",
       "      <th>GarageCars</th>\n",
       "      <td>0.01</td>\n",
       "    </tr>\n",
       "    <tr>\n",
       "      <th>OverallCond</th>\n",
       "      <td>0.01</td>\n",
       "    </tr>\n",
       "    <tr>\n",
       "      <th>YearBuilt</th>\n",
       "      <td>0.01</td>\n",
       "    </tr>\n",
       "    <tr>\n",
       "      <th>1stFlrSF</th>\n",
       "      <td>0.01</td>\n",
       "    </tr>\n",
       "    <tr>\n",
       "      <th>LotArea</th>\n",
       "      <td>0.01</td>\n",
       "    </tr>\n",
       "    <tr>\n",
       "      <th>CentralAir</th>\n",
       "      <td>0.01</td>\n",
       "    </tr>\n",
       "  </tbody>\n",
       "</table>\n",
       "</div>"
      ],
      "text/plain": [
       "            Importance\n",
       "OverallQual       0.31\n",
       "GrLivArea         0.14\n",
       "TotalBsmtSF       0.03\n",
       "BsmtFinSF1        0.02\n",
       "GarageCars        0.01\n",
       "OverallCond       0.01\n",
       "YearBuilt         0.01\n",
       "1stFlrSF          0.01\n",
       "LotArea           0.01\n",
       "CentralAir        0.01"
      ]
     },
     "metadata": {},
     "output_type": "display_data"
    }
   ],
   "source": [
    "importance = data_tools.PipelineManager(train, model=search).imporance_columns()\n",
    "\n",
    "display(importance.head(10))"
   ]
  },
  {
   "cell_type": "code",
   "execution_count": 165,
   "id": "9261b0d8",
   "metadata": {},
   "outputs": [
    {
     "name": "stderr",
     "output_type": "stream",
     "text": [
      "C:\\Users\\46120\\AppData\\Local\\Temp\\ipykernel_9832\\2125045740.py:5: FutureWarning: \n",
      "\n",
      "Passing `palette` without assigning `hue` is deprecated and will be removed in v0.14.0. Assign the `x` variable to `hue` and set `legend=False` for the same effect.\n",
      "\n",
      "  sns.barplot(data=imp,\n"
     ]
    },
    {
     "data": {
      "image/png": "[encoded data removed]",
      "text/plain": [
       "<Figure size 1700x900 with 1 Axes>"
      ]
     },
     "metadata": {},
     "output_type": "display_data"
    }
   ],
   "source": [
    "imp = importance.head(20)\n",
    "\n",
    "plt.figure(figsize=(17, 9))\n",
    "\n",
    "sns.barplot(data=imp,\n",
    "            x=imp.index,\n",
    "            y='Importance',\n",
    "            palette='crest');\n",
    "\n",
    "plt.xticks(rotation=45)\n",
    "plt.title('Top K feature Importance')\n",
    "plt.grid(axis='y', linestyle='--', alpha=0.6)\n",
    "plt.show();"
   ]
  },
  {
   "cell_type": "markdown",
   "id": "74634665",
   "metadata": {},
   "source": [
    "Случайный лес плохо подходит под эти данные, **лучше всего проверять линейной регрессии**, т.к. она прекрасно работает с большим количеством фичей, и возможностью использовать не только евклидово расстояние, но и манхеттенское, которое в свою очередь **зануляет ненужные признаки**. Проверим отобранные признаки через Lasso."
   ]
  },
  {
   "cell_type": "code",
   "execution_count": 166,
   "id": "a741597a",
   "metadata": {},
   "outputs": [],
   "source": [
    "lasso_params = data_tools.load_json('./model/lasso_params.json')"
   ]
  },
  {
   "cell_type": "code",
   "execution_count": 167,
   "id": "e465bf96",
   "metadata": {},
   "outputs": [],
   "source": [
    "lasso_model = Lasso()"
   ]
  },
  {
   "cell_type": "code",
   "execution_count": 168,
   "id": "f7b15e58",
   "metadata": {},
   "outputs": [
    {
     "name": "stderr",
     "output_type": "stream",
     "text": [
      "c:\\Users\\46120\\AppData\\Local\\Programs\\Python\\Python312\\Lib\\site-packages\\sklearn\\model_selection\\_search.py:317: UserWarning: The total space of parameters 2 is smaller than n_iter=10. Running 2 iterations. For exhaustive searches, use GridSearchCV.\n",
      "  warnings.warn(\n"
     ]
    },
    {
     "name": "stdout",
     "output_type": "stream",
     "text": [
      "Fitting 5 folds for each of 2 candidates, totalling 10 fits\n",
      "Лучшие параметры модели: {'reg__alpha': 0.01}\n",
      "MAE модели: 17390.2\n"
     ]
    }
   ],
   "source": [
    "feature_lasso = data_tools.PipelineManager(train, lasso_model).train_model(lasso_params)"
   ]
  },
  {
   "cell_type": "code",
   "execution_count": 169,
   "id": "b122adf5",
   "metadata": {},
   "outputs": [],
   "source": [
    "preprocessor = feature_lasso.named_steps['prep'] \n",
    "numeric = preprocessor.transformers_[0][2] \n",
    "lasso_model = feature_lasso.named_steps['reg']\n",
    "coefficients = lasso_model.coef_\n",
    "coef_data = pd.DataFrame({\n",
    "    'Feature': numeric,\n",
    "    'Coefficient': coefficients[:len(numeric)]\n",
    "}).sort_values(by='Coefficient', ascending=False)"
   ]
  },
  {
   "cell_type": "markdown",
   "id": "e34236a2",
   "metadata": {},
   "source": [
    "**(!) Важный момент**, т.к. применяется OneHotEncoder, то сейчас параметров невероятно много. Столбцы с категориальными фичами разделились, поэтому проверяем важность признаков только на количественных фичах."
   ]
  },
  {
   "cell_type": "code",
   "execution_count": 170,
   "id": "99c67455",
   "metadata": {},
   "outputs": [
    {
     "data": {
      "text/html": [
       "<div>\n",
       "<style scoped>\n",
       "    .dataframe tbody tr th:only-of-type {\n",
       "        vertical-align: middle;\n",
       "    }\n",
       "\n",
       "    .dataframe tbody tr th {\n",
       "        vertical-align: top;\n",
       "    }\n",
       "\n",
       "    .dataframe thead th {\n",
       "        text-align: right;\n",
       "    }\n",
       "</style>\n",
       "<table border=\"1\" class=\"dataframe\">\n",
       "  <thead>\n",
       "    <tr style=\"text-align: right;\">\n",
       "      <th></th>\n",
       "      <th>Feature</th>\n",
       "      <th>Coefficient</th>\n",
       "    </tr>\n",
       "  </thead>\n",
       "  <tbody>\n",
       "    <tr>\n",
       "      <th>3</th>\n",
       "      <td>OverallQual</td>\n",
       "      <td>0.124549</td>\n",
       "    </tr>\n",
       "    <tr>\n",
       "      <th>15</th>\n",
       "      <td>GrLivArea</td>\n",
       "      <td>0.094834</td>\n",
       "    </tr>\n",
       "    <tr>\n",
       "      <th>5</th>\n",
       "      <td>YearBuilt</td>\n",
       "      <td>0.066464</td>\n",
       "    </tr>\n",
       "    <tr>\n",
       "      <th>25</th>\n",
       "      <td>GarageCars</td>\n",
       "      <td>0.066070</td>\n",
       "    </tr>\n",
       "    <tr>\n",
       "      <th>4</th>\n",
       "      <td>OverallCond</td>\n",
       "      <td>0.036377</td>\n",
       "    </tr>\n",
       "    <tr>\n",
       "      <th>23</th>\n",
       "      <td>Fireplaces</td>\n",
       "      <td>0.032138</td>\n",
       "    </tr>\n",
       "    <tr>\n",
       "      <th>6</th>\n",
       "      <td>YearRemodAdd</td>\n",
       "      <td>0.027688</td>\n",
       "    </tr>\n",
       "    <tr>\n",
       "      <th>16</th>\n",
       "      <td>BsmtFullBath</td>\n",
       "      <td>0.025202</td>\n",
       "    </tr>\n",
       "    <tr>\n",
       "      <th>11</th>\n",
       "      <td>TotalBsmtSF</td>\n",
       "      <td>0.018134</td>\n",
       "    </tr>\n",
       "    <tr>\n",
       "      <th>22</th>\n",
       "      <td>TotRmsAbvGrd</td>\n",
       "      <td>0.017885</td>\n",
       "    </tr>\n",
       "    <tr>\n",
       "      <th>27</th>\n",
       "      <td>WoodDeckSF</td>\n",
       "      <td>0.013784</td>\n",
       "    </tr>\n",
       "    <tr>\n",
       "      <th>1</th>\n",
       "      <td>LotArea</td>\n",
       "      <td>0.012569</td>\n",
       "    </tr>\n",
       "    <tr>\n",
       "      <th>8</th>\n",
       "      <td>BsmtFinSF1</td>\n",
       "      <td>0.009281</td>\n",
       "    </tr>\n",
       "    <tr>\n",
       "      <th>31</th>\n",
       "      <td>ScreenPorch</td>\n",
       "      <td>0.008099</td>\n",
       "    </tr>\n",
       "    <tr>\n",
       "      <th>18</th>\n",
       "      <td>FullBath</td>\n",
       "      <td>0.004130</td>\n",
       "    </tr>\n",
       "    <tr>\n",
       "      <th>12</th>\n",
       "      <td>1stFlrSF</td>\n",
       "      <td>0.003797</td>\n",
       "    </tr>\n",
       "    <tr>\n",
       "      <th>28</th>\n",
       "      <td>OpenPorchSF</td>\n",
       "      <td>0.000000</td>\n",
       "    </tr>\n",
       "    <tr>\n",
       "      <th>29</th>\n",
       "      <td>EnclosedPorch</td>\n",
       "      <td>0.000000</td>\n",
       "    </tr>\n",
       "    <tr>\n",
       "      <th>19</th>\n",
       "      <td>HalfBath</td>\n",
       "      <td>0.000000</td>\n",
       "    </tr>\n",
       "    <tr>\n",
       "      <th>30</th>\n",
       "      <td>3SsnPorch</td>\n",
       "      <td>0.000000</td>\n",
       "    </tr>\n",
       "    <tr>\n",
       "      <th>26</th>\n",
       "      <td>GarageArea</td>\n",
       "      <td>0.000000</td>\n",
       "    </tr>\n",
       "    <tr>\n",
       "      <th>34</th>\n",
       "      <td>MiscVal</td>\n",
       "      <td>-0.000000</td>\n",
       "    </tr>\n",
       "    <tr>\n",
       "      <th>35</th>\n",
       "      <td>MoSold</td>\n",
       "      <td>0.000000</td>\n",
       "    </tr>\n",
       "    <tr>\n",
       "      <th>36</th>\n",
       "      <td>YrSold</td>\n",
       "      <td>-0.000000</td>\n",
       "    </tr>\n",
       "    <tr>\n",
       "      <th>37</th>\n",
       "      <td>Has_MiscFeature</td>\n",
       "      <td>-0.000000</td>\n",
       "    </tr>\n",
       "    <tr>\n",
       "      <th>33</th>\n",
       "      <td>PoolQC</td>\n",
       "      <td>-0.000000</td>\n",
       "    </tr>\n",
       "    <tr>\n",
       "      <th>38</th>\n",
       "      <td>Has_Fence</td>\n",
       "      <td>-0.000000</td>\n",
       "    </tr>\n",
       "    <tr>\n",
       "      <th>24</th>\n",
       "      <td>GarageYrBlt</td>\n",
       "      <td>0.000000</td>\n",
       "    </tr>\n",
       "    <tr>\n",
       "      <th>20</th>\n",
       "      <td>BedroomAbvGr</td>\n",
       "      <td>0.000000</td>\n",
       "    </tr>\n",
       "    <tr>\n",
       "      <th>17</th>\n",
       "      <td>BsmtHalfBath</td>\n",
       "      <td>0.000000</td>\n",
       "    </tr>\n",
       "    <tr>\n",
       "      <th>14</th>\n",
       "      <td>LowQualFinSF</td>\n",
       "      <td>-0.000000</td>\n",
       "    </tr>\n",
       "    <tr>\n",
       "      <th>13</th>\n",
       "      <td>2ndFlrSF</td>\n",
       "      <td>0.000000</td>\n",
       "    </tr>\n",
       "    <tr>\n",
       "      <th>10</th>\n",
       "      <td>BsmtUnfSF</td>\n",
       "      <td>-0.000000</td>\n",
       "    </tr>\n",
       "    <tr>\n",
       "      <th>9</th>\n",
       "      <td>BsmtFinSF2</td>\n",
       "      <td>0.000000</td>\n",
       "    </tr>\n",
       "    <tr>\n",
       "      <th>7</th>\n",
       "      <td>MasVnrArea</td>\n",
       "      <td>0.000000</td>\n",
       "    </tr>\n",
       "    <tr>\n",
       "      <th>2</th>\n",
       "      <td>Street</td>\n",
       "      <td>-0.000000</td>\n",
       "    </tr>\n",
       "    <tr>\n",
       "      <th>32</th>\n",
       "      <td>PoolArea</td>\n",
       "      <td>-0.004821</td>\n",
       "    </tr>\n",
       "    <tr>\n",
       "      <th>21</th>\n",
       "      <td>KitchenAbvGr</td>\n",
       "      <td>-0.005993</td>\n",
       "    </tr>\n",
       "    <tr>\n",
       "      <th>0</th>\n",
       "      <td>MSSubClass</td>\n",
       "      <td>-0.017287</td>\n",
       "    </tr>\n",
       "  </tbody>\n",
       "</table>\n",
       "</div>"
      ],
      "text/plain": [
       "            Feature  Coefficient\n",
       "3       OverallQual     0.124549\n",
       "15        GrLivArea     0.094834\n",
       "5         YearBuilt     0.066464\n",
       "25       GarageCars     0.066070\n",
       "4       OverallCond     0.036377\n",
       "23       Fireplaces     0.032138\n",
       "6      YearRemodAdd     0.027688\n",
       "16     BsmtFullBath     0.025202\n",
       "11      TotalBsmtSF     0.018134\n",
       "22     TotRmsAbvGrd     0.017885\n",
       "27       WoodDeckSF     0.013784\n",
       "1           LotArea     0.012569\n",
       "8        BsmtFinSF1     0.009281\n",
       "31      ScreenPorch     0.008099\n",
       "18         FullBath     0.004130\n",
       "12         1stFlrSF     0.003797\n",
       "28      OpenPorchSF     0.000000\n",
       "29    EnclosedPorch     0.000000\n",
       "19         HalfBath     0.000000\n",
       "30        3SsnPorch     0.000000\n",
       "26       GarageArea     0.000000\n",
       "34          MiscVal    -0.000000\n",
       "35           MoSold     0.000000\n",
       "36           YrSold    -0.000000\n",
       "37  Has_MiscFeature    -0.000000\n",
       "33           PoolQC    -0.000000\n",
       "38        Has_Fence    -0.000000\n",
       "24      GarageYrBlt     0.000000\n",
       "20     BedroomAbvGr     0.000000\n",
       "17     BsmtHalfBath     0.000000\n",
       "14     LowQualFinSF    -0.000000\n",
       "13         2ndFlrSF     0.000000\n",
       "10        BsmtUnfSF    -0.000000\n",
       "9        BsmtFinSF2     0.000000\n",
       "7        MasVnrArea     0.000000\n",
       "2            Street    -0.000000\n",
       "32         PoolArea    -0.004821\n",
       "21     KitchenAbvGr    -0.005993\n",
       "0        MSSubClass    -0.017287"
      ]
     },
     "metadata": {},
     "output_type": "display_data"
    }
   ],
   "source": [
    "display(coef_data)"
   ]
  },
  {
   "cell_type": "code",
   "execution_count": 171,
   "id": "71f67cc5",
   "metadata": {},
   "outputs": [],
   "source": [
    "unimportance_columns = list(coef_data[coef_data['Coefficient'] <= 0]['Feature'])"
   ]
  },
  {
   "cell_type": "code",
   "execution_count": 172,
   "id": "2beea9bd",
   "metadata": {},
   "outputs": [
    {
     "name": "stdout",
     "output_type": "stream",
     "text": [
      "МАЕ Difference: -199.63\n"
     ]
    }
   ],
   "source": [
    "before_drop = data_tools.PipelineManager(train, baseline_model).get_baseline()\n",
    "train = train.drop(columns=unimportance_columns)\n",
    "after_drop = data_tools.PipelineManager(train, baseline_model).get_baseline()\n",
    "print(f'МАЕ Difference: {round((after_drop - before_drop), 2)}')"
   ]
  },
  {
   "cell_type": "code",
   "execution_count": 173,
   "id": "568ebbf0",
   "metadata": {},
   "outputs": [],
   "source": [
    "test = test.drop(columns=unimportance_columns)"
   ]
  },
  {
   "cell_type": "markdown",
   "id": "079dab41",
   "metadata": {},
   "source": [
    "Сохраним данные для следующего блока."
   ]
  },
  {
   "cell_type": "code",
   "execution_count": 174,
   "id": "c746bef1",
   "metadata": {},
   "outputs": [],
   "source": [
    "train.to_csv('./data/train_pred.csv')\n",
    "test.to_csv('./data/test_pred.csv')"
   ]
  },
  {
   "cell_type": "markdown",
   "id": "fc74ff0d",
   "metadata": {},
   "source": [
    "#### Вывод"
   ]
  },
  {
   "cell_type": "code",
   "execution_count": 175,
   "id": "e0675115",
   "metadata": {},
   "outputs": [
    {
     "name": "stdout",
     "output_type": "stream",
     "text": [
      "Итоговая разница МАЕ: -1804.21\n"
     ]
    }
   ],
   "source": [
    "print(f'Итоговая разница МАЕ: {round((after_drop - baseline_mae['MAE']), 2)}')"
   ]
  },
  {
   "cell_type": "markdown",
   "id": "5df93f6e",
   "metadata": {},
   "source": [
    "На этапе предобработки выполнены все необходимые шаги для подготовки данных к обучению модели.\n",
    "Основные действия включали:\n",
    "\n",
    "* удаление неинформативных и дублирующих признаков (Id, Utilities, Street и др.);\n",
    "\n",
    "* обработку пропусков с использованием подходящих стратегий (медиана, мода, специальные категории “No ...”);\n",
    "\n",
    "* кодирование категориальных признаков с помощью OneHotEncoder и/или числового отображения (mapping);\n",
    "\n",
    "* масштабирование числовых признаков с помощью StandardScaler;\n",
    "\n",
    "* проверку и устранение мультиколлинеарности между признаками.\n",
    "\n",
    "После выполнения этих шагов датасет:\n",
    "\n",
    "* очищен от пропусков и некорректных значений;\n",
    "\n",
    "* приведён к единому формату, совместимому с моделями машинного обучения;\n",
    "\n",
    "* готов для обучения и дальнейшего подбора гиперпараметров.\n",
    "\n",
    "Итог:\n",
    "Получен финальный обучающий набор данных с оптимизированным числом признаков, корректными типами и стабильной структурой.\n",
    "Теперь можно переходить к следующему этапу — обучению и оценке моделей."
   ]
  }
 ],
 "metadata": {
  "kernelspec": {
   "display_name": "Python 3",
   "language": "python",
   "name": "python3"
  },
  "language_info": {
   "codemirror_mode": {
    "name": "ipython",
    "version": 3
   },
   "file_extension": ".py",
   "mimetype": "text/x-python",
   "name": "python",
   "nbconvert_exporter": "python",
   "pygments_lexer": "ipython3",
   "version": "3.12.0"
  }
 },
 "nbformat": 4,
 "nbformat_minor": 5
}
