{
 "cells": [
  {
   "cell_type": "code",
   "execution_count": null,
   "id": "0c262c15-c935-42a1-b866-64c7b722078e",
   "metadata": {},
   "outputs": [],
   "source": []
  }
 ],
 "metadata": {
  "kernelspec": {
   "display_name": "",
   "name": ""
  },
  "language_info": {
   "name": ""
  }
 },
 "nbformat": 4,
 "nbformat_minor": 5
}
